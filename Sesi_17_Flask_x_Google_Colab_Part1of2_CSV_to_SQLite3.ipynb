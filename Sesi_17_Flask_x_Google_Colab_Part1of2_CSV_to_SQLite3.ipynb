{
  "nbformat": 4,
  "nbformat_minor": 0,
  "metadata": {
    "colab": {
      "name": "Memasukkan data usulan ke db_Eunice Cristine.ipynb",
      "provenance": [],
      "collapsed_sections": []
    },
    "kernelspec": {
      "name": "python3",
      "display_name": "Python 3"
    }
  },
  "cells": [
    {
      "cell_type": "markdown",
      "metadata": {
        "id": "LaQfnCauxig4"
      },
      "source": [
        "![]( https://docs.google.com/uc?export=download&id=1oKIi5t0GlSKAoPTIt1f-DcOu0GcYHDD4)"
      ]
    },
    {
      "cell_type": "code",
      "metadata": {
        "colab": {
          "base_uri": "https://localhost:8080/"
        },
        "id": "kI6bBdJRFriD",
        "outputId": "ff956d76-52b7-49a2-95bd-09ca851942f5"
      },
      "source": [
        "from google.colab import drive\n",
        "drive.mount('/content/drive')"
      ],
      "execution_count": null,
      "outputs": [
        {
          "output_type": "stream",
          "text": [
            "Mounted at /content/drive\n"
          ],
          "name": "stdout"
        }
      ]
    },
    {
      "cell_type": "code",
      "metadata": {
        "colab": {
          "base_uri": "https://localhost:8080/"
        },
        "id": "pRNMBgIcF0_x",
        "outputId": "0598ccc6-d37c-4c21-8b81-444900f5667d"
      },
      "source": [
        "import os\n",
        "os.chdir(\"/content/drive/My Drive/flask-sqlite-login\")\n",
        "!pwd\n",
        "!ls"
      ],
      "execution_count": null,
      "outputs": [
        {
          "output_type": "stream",
          "text": [
            "/content/drive/My Drive/flask-sqlite-login\n",
            "dataset_dump.csv\n",
            "fga_big_data_Eunice.db\n",
            "FP_KEL3_Sesi_17_Flask_x_Google_Colab_Part1of2_CSV_to_SQLite3.ipynb\n",
            "indexzz.html\n",
            "Sesi_17_Flask_x_Google_Colab_Part1of2_CSV_to_SQLite3.ipynb\n",
            "Sesi_17_Flask_x_Google_Colab_Part2of2.ipynb\n",
            "static\n",
            "templates\n"
          ],
          "name": "stdout"
        }
      ]
    },
    {
      "cell_type": "code",
      "metadata": {
        "id": "3xzFcTDJQZ5D",
        "colab": {
          "base_uri": "https://localhost:8080/"
        },
        "outputId": "284d2b85-007f-43a8-802f-3cfa141ad5a9"
      },
      "source": [
        "!pip install db-sqlite3"
      ],
      "execution_count": null,
      "outputs": [
        {
          "output_type": "stream",
          "text": [
            "Collecting db-sqlite3\n",
            "  Downloading db-sqlite3-0.0.1.tar.gz (1.4 kB)\n",
            "Collecting db\n",
            "  Downloading db-0.1.1.tar.gz (3.4 kB)\n",
            "Collecting antiorm\n",
            "  Downloading antiorm-1.2.1.tar.gz (171 kB)\n",
            "\u001b[K     |████████████████████████████████| 171 kB 36.5 MB/s \n",
            "\u001b[?25hBuilding wheels for collected packages: db-sqlite3, db, antiorm\n",
            "  Building wheel for db-sqlite3 (setup.py) ... \u001b[?25l\u001b[?25hdone\n",
            "  Created wheel for db-sqlite3: filename=db_sqlite3-0.0.1-py3-none-any.whl size=1793 sha256=fa05c75a809efa7641d27f8ba0310ba3a57c70b4c4e3e8d14404f0b02dad7940\n",
            "  Stored in directory: /root/.cache/pip/wheels/02/38/d5/2f54461050571bf5330fee2a37ab1c9b5e7540b0572f1acdab\n",
            "  Building wheel for db (setup.py) ... \u001b[?25l\u001b[?25hdone\n",
            "  Created wheel for db: filename=db-0.1.1-py3-none-any.whl size=3893 sha256=9025eedb6ceb5b6be37df882776304317b2244640dd8c0fa495954140bfc8dac\n",
            "  Stored in directory: /root/.cache/pip/wheels/8e/97/82/741d2b360507411ec233d0280d7371faa94b03bde834e4a9be\n",
            "  Building wheel for antiorm (setup.py) ... \u001b[?25l\u001b[?25hdone\n",
            "  Created wheel for antiorm: filename=antiorm-1.2.1-py3-none-any.whl size=31678 sha256=a27d8dfd88fa498ce8475875a5d7b8c1dcb9121066b180d8c0212940a1d21702\n",
            "  Stored in directory: /root/.cache/pip/wheels/c5/43/70/e9729370cfff40c49d3e3d05377d54b3ecd71f64e62341ea80\n",
            "Successfully built db-sqlite3 db antiorm\n",
            "Installing collected packages: antiorm, db, db-sqlite3\n",
            "Successfully installed antiorm-1.2.1 db-0.1.1 db-sqlite3-0.0.1\n"
          ],
          "name": "stdout"
        }
      ]
    },
    {
      "cell_type": "code",
      "metadata": {
        "id": "G6sqzP_tJIEe"
      },
      "source": [
        "import pandas as pd\n",
        "import sqlite3\n",
        "from datetime import date"
      ],
      "execution_count": null,
      "outputs": []
    },
    {
      "cell_type": "markdown",
      "metadata": {
        "id": "5lnOx6HOESXb"
      },
      "source": [
        "BUAT TABLE DARI CASE "
      ]
    },
    {
      "cell_type": "code",
      "metadata": {
        "colab": {
          "base_uri": "https://localhost:8080/"
        },
        "id": "jn1vJUvxDjAh",
        "outputId": "23f9665e-8755-4478-8502-558851d48790"
      },
      "source": [
        "#buat table pada database dgn nama gejala_covid\n",
        "db = sqlite3.connect(\"fga_big_data_Eunice.db\")\n",
        "db.execute(\"create table asuransi_kesehatan(umur int, jenis_kelamin int, imt int, jumlah_anak int, perokok int, provinsi int, perusahaan_asuransi int, biaya_asuransi int)\")"
      ],
      "execution_count": null,
      "outputs": [
        {
          "output_type": "execute_result",
          "data": {
            "text/plain": [
              "<sqlite3.Cursor at 0x7f1fa7ba35e0>"
            ]
          },
          "metadata": {
            "tags": []
          },
          "execution_count": 5
        }
      ]
    },
    {
      "cell_type": "code",
      "metadata": {
        "colab": {
          "base_uri": "https://localhost:8080/"
        },
        "id": "M8gAoNLzGc2_",
        "outputId": "5527212e-4926-471b-f882-cb819c7e7081"
      },
      "source": [
        "#karena nyoba2 buat drop table yg salah buat\n",
        "db.execute(\"drop table asuransi_kesehatan\")"
      ],
      "execution_count": null,
      "outputs": [
        {
          "output_type": "execute_result",
          "data": {
            "text/plain": [
              "<sqlite3.Cursor at 0x7fe41b49aea0>"
            ]
          },
          "metadata": {
            "tags": []
          },
          "execution_count": 63
        }
      ]
    },
    {
      "cell_type": "code",
      "metadata": {
        "colab": {
          "base_uri": "https://localhost:8080/"
        },
        "id": "zwhV2_-qGJRx",
        "outputId": "021e86a6-b2c3-490c-c306-f071fb24302c"
      },
      "source": [
        "!ls"
      ],
      "execution_count": null,
      "outputs": [
        {
          "output_type": "stream",
          "text": [
            "Data_Generate_Reg_Eun_30.csv\n",
            "dataset_dump.csv\n",
            "fga_big_data_Eunice.db\n",
            "FP_KEL3_Sesi_17_Flask_x_Google_Colab_Part1of2_CSV_to_SQLite3.ipynb\n",
            "indexzz.html\n",
            "Sesi_17_Flask_x_Google_Colab_Part1of2_CSV_to_SQLite3.ipynb\n",
            "Sesi_17_Flask_x_Google_Colab_Part2of2.ipynb\n",
            "static\n",
            "templates\n"
          ],
          "name": "stdout"
        }
      ]
    },
    {
      "cell_type": "code",
      "metadata": {
        "colab": {
          "base_uri": "https://localhost:8080/"
        },
        "id": "Q6WYuGIlE00l",
        "outputId": "48174ffb-f691-4db7-ffc2-c0582d0a0cdf"
      },
      "source": [
        "data3 = pd.read_csv(\"Data_Generate_Reg_Eun_30.csv\")\n",
        "data3.shape\n",
        "# data.head()"
      ],
      "execution_count": null,
      "outputs": [
        {
          "output_type": "execute_result",
          "data": {
            "text/plain": [
              "(30, 8)"
            ]
          },
          "metadata": {
            "tags": []
          },
          "execution_count": 8
        }
      ]
    },
    {
      "cell_type": "code",
      "metadata": {
        "colab": {
          "base_uri": "https://localhost:8080/",
          "height": 203
        },
        "id": "mTwAAUa1MYFS",
        "outputId": "6d36c270-cbc3-4acc-b675-98c040042e66"
      },
      "source": [
        "data3.head()"
      ],
      "execution_count": null,
      "outputs": [
        {
          "output_type": "execute_result",
          "data": {
            "text/html": [
              "<div>\n",
              "<style scoped>\n",
              "    .dataframe tbody tr th:only-of-type {\n",
              "        vertical-align: middle;\n",
              "    }\n",
              "\n",
              "    .dataframe tbody tr th {\n",
              "        vertical-align: top;\n",
              "    }\n",
              "\n",
              "    .dataframe thead th {\n",
              "        text-align: right;\n",
              "    }\n",
              "</style>\n",
              "<table border=\"1\" class=\"dataframe\">\n",
              "  <thead>\n",
              "    <tr style=\"text-align: right;\">\n",
              "      <th></th>\n",
              "      <th>umur</th>\n",
              "      <th>jenis_kelamin</th>\n",
              "      <th>imt</th>\n",
              "      <th>jumlah_anak</th>\n",
              "      <th>perokok</th>\n",
              "      <th>provinsi</th>\n",
              "      <th>perusahaan_asuransi</th>\n",
              "      <th>biaya_asuransi</th>\n",
              "    </tr>\n",
              "  </thead>\n",
              "  <tbody>\n",
              "    <tr>\n",
              "      <th>0</th>\n",
              "      <td>33</td>\n",
              "      <td>0</td>\n",
              "      <td>28.612912</td>\n",
              "      <td>4</td>\n",
              "      <td>0</td>\n",
              "      <td>22</td>\n",
              "      <td>0</td>\n",
              "      <td>4.261534e+06</td>\n",
              "    </tr>\n",
              "    <tr>\n",
              "      <th>1</th>\n",
              "      <td>38</td>\n",
              "      <td>0</td>\n",
              "      <td>15.407106</td>\n",
              "      <td>1</td>\n",
              "      <td>0</td>\n",
              "      <td>26</td>\n",
              "      <td>5</td>\n",
              "      <td>1.572452e+06</td>\n",
              "    </tr>\n",
              "    <tr>\n",
              "      <th>2</th>\n",
              "      <td>57</td>\n",
              "      <td>0</td>\n",
              "      <td>33.276373</td>\n",
              "      <td>4</td>\n",
              "      <td>0</td>\n",
              "      <td>9</td>\n",
              "      <td>2</td>\n",
              "      <td>3.510819e+06</td>\n",
              "    </tr>\n",
              "    <tr>\n",
              "      <th>3</th>\n",
              "      <td>45</td>\n",
              "      <td>0</td>\n",
              "      <td>15.202794</td>\n",
              "      <td>1</td>\n",
              "      <td>0</td>\n",
              "      <td>14</td>\n",
              "      <td>2</td>\n",
              "      <td>3.652440e+05</td>\n",
              "    </tr>\n",
              "    <tr>\n",
              "      <th>4</th>\n",
              "      <td>46</td>\n",
              "      <td>0</td>\n",
              "      <td>34.542702</td>\n",
              "      <td>4</td>\n",
              "      <td>0</td>\n",
              "      <td>20</td>\n",
              "      <td>2</td>\n",
              "      <td>3.795882e+06</td>\n",
              "    </tr>\n",
              "  </tbody>\n",
              "</table>\n",
              "</div>"
            ],
            "text/plain": [
              "   umur  jenis_kelamin  ...  perusahaan_asuransi  biaya_asuransi\n",
              "0    33              0  ...                    0    4.261534e+06\n",
              "1    38              0  ...                    5    1.572452e+06\n",
              "2    57              0  ...                    2    3.510819e+06\n",
              "3    45              0  ...                    2    3.652440e+05\n",
              "4    46              0  ...                    2    3.795882e+06\n",
              "\n",
              "[5 rows x 8 columns]"
            ]
          },
          "metadata": {
            "tags": []
          },
          "execution_count": 9
        }
      ]
    },
    {
      "cell_type": "code",
      "metadata": {
        "id": "fZGrMowmG12b"
      },
      "source": [
        "def pushCSVHargaAsuransiToDB(umur, jenis_kelamin, imt, jumlah_anak, perokok, provinsi, perusahaan_asuransi, biaya_asuransi):\n",
        "#inserting values inside the created table\n",
        "    db = sqlite3.connect(\"fga_big_data_Eunice.db\")    \n",
        "    cmd3 = \"insert into asuransi_kesehatan(umur, jenis_kelamin, imt, jumlah_anak, perokok, provinsi, perusahaan_asuransi, biaya_asuransi) values('{}','{}','{}','{}','{}','{}','{}','{}')\".format(umur, jenis_kelamin, imt, jumlah_anak, perokok, provinsi, perusahaan_asuransi, biaya_asuransi)\n",
        "    db.execute(cmd3)\n",
        "    db.commit()"
      ],
      "execution_count": null,
      "outputs": []
    },
    {
      "cell_type": "code",
      "metadata": {
        "id": "XFm3i_h2ERua"
      },
      "source": [
        "#memasukkan seluruh file pada csv ke table gejala_covid\n",
        "for i in range(0,len(data3)):\n",
        "  pushCSVHargaAsuransiToDB(data3.iloc[i][0],data3.iloc[i][1],data3.iloc[i][2],data3.iloc[i][3],data3.iloc[i][4],data3.iloc[i][5],data3.iloc[i][6],data3.iloc[i][7])"
      ],
      "execution_count": null,
      "outputs": []
    },
    {
      "cell_type": "code",
      "metadata": {
        "colab": {
          "base_uri": "https://localhost:8080/",
          "height": 203
        },
        "id": "WawUOCE3JA6q",
        "outputId": "519f8cc9-de0c-4f29-9274-8184626e05b4"
      },
      "source": [
        "db = sqlite3.connect(\"fga_big_data_Eunice.db\")\n",
        "qry = \"\"\"\n",
        "\n",
        "SELECT * FROM asuransi_kesehatan\n",
        "\n",
        "\"\"\"\n",
        "df = pd.read_sql_query(qry, db)\n",
        "df.head()"
      ],
      "execution_count": null,
      "outputs": [
        {
          "output_type": "execute_result",
          "data": {
            "text/html": [
              "<div>\n",
              "<style scoped>\n",
              "    .dataframe tbody tr th:only-of-type {\n",
              "        vertical-align: middle;\n",
              "    }\n",
              "\n",
              "    .dataframe tbody tr th {\n",
              "        vertical-align: top;\n",
              "    }\n",
              "\n",
              "    .dataframe thead th {\n",
              "        text-align: right;\n",
              "    }\n",
              "</style>\n",
              "<table border=\"1\" class=\"dataframe\">\n",
              "  <thead>\n",
              "    <tr style=\"text-align: right;\">\n",
              "      <th></th>\n",
              "      <th>umur</th>\n",
              "      <th>jenis_kelamin</th>\n",
              "      <th>imt</th>\n",
              "      <th>jumlah_anak</th>\n",
              "      <th>perokok</th>\n",
              "      <th>provinsi</th>\n",
              "      <th>perusahaan_asuransi</th>\n",
              "      <th>biaya_asuransi</th>\n",
              "    </tr>\n",
              "  </thead>\n",
              "  <tbody>\n",
              "    <tr>\n",
              "      <th>0</th>\n",
              "      <td>33</td>\n",
              "      <td>0</td>\n",
              "      <td>28.612912</td>\n",
              "      <td>4</td>\n",
              "      <td>0</td>\n",
              "      <td>22</td>\n",
              "      <td>0</td>\n",
              "      <td>4.261534e+06</td>\n",
              "    </tr>\n",
              "    <tr>\n",
              "      <th>1</th>\n",
              "      <td>38</td>\n",
              "      <td>0</td>\n",
              "      <td>15.407106</td>\n",
              "      <td>1</td>\n",
              "      <td>0</td>\n",
              "      <td>26</td>\n",
              "      <td>5</td>\n",
              "      <td>1.572452e+06</td>\n",
              "    </tr>\n",
              "    <tr>\n",
              "      <th>2</th>\n",
              "      <td>57</td>\n",
              "      <td>0</td>\n",
              "      <td>33.276373</td>\n",
              "      <td>4</td>\n",
              "      <td>0</td>\n",
              "      <td>9</td>\n",
              "      <td>2</td>\n",
              "      <td>3.510819e+06</td>\n",
              "    </tr>\n",
              "    <tr>\n",
              "      <th>3</th>\n",
              "      <td>45</td>\n",
              "      <td>0</td>\n",
              "      <td>15.202794</td>\n",
              "      <td>1</td>\n",
              "      <td>0</td>\n",
              "      <td>14</td>\n",
              "      <td>2</td>\n",
              "      <td>3.652440e+05</td>\n",
              "    </tr>\n",
              "    <tr>\n",
              "      <th>4</th>\n",
              "      <td>46</td>\n",
              "      <td>0</td>\n",
              "      <td>34.542702</td>\n",
              "      <td>4</td>\n",
              "      <td>0</td>\n",
              "      <td>20</td>\n",
              "      <td>2</td>\n",
              "      <td>3.795882e+06</td>\n",
              "    </tr>\n",
              "  </tbody>\n",
              "</table>\n",
              "</div>"
            ],
            "text/plain": [
              "   umur  jenis_kelamin  ...  perusahaan_asuransi  biaya_asuransi\n",
              "0    33              0  ...                    0    4.261534e+06\n",
              "1    38              0  ...                    5    1.572452e+06\n",
              "2    57              0  ...                    2    3.510819e+06\n",
              "3    45              0  ...                    2    3.652440e+05\n",
              "4    46              0  ...                    2    3.795882e+06\n",
              "\n",
              "[5 rows x 8 columns]"
            ]
          },
          "metadata": {
            "tags": []
          },
          "execution_count": 16
        }
      ]
    }
  ]
}