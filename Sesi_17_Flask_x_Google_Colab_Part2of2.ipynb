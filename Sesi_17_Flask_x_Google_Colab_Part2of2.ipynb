{
  "nbformat": 4,
  "nbformat_minor": 0,
  "metadata": {
    "colab": {
      "name": "Sesi_17_Flask_x_Google_Colab_Part2of2.ipynb",
      "provenance": [],
      "collapsed_sections": []
    },
    "kernelspec": {
      "display_name": "Python 3",
      "language": "python",
      "name": "python3"
    },
    "language_info": {
      "codemirror_mode": {
        "name": "ipython",
        "version": 3
      },
      "file_extension": ".py",
      "mimetype": "text/x-python",
      "name": "python",
      "nbconvert_exporter": "python",
      "pygments_lexer": "ipython3",
      "version": "3.9.4"
    }
  },
  "cells": [
    {
      "cell_type": "markdown",
      "metadata": {
        "id": "2H0uhH1X3oL9"
      },
      "source": [
        "![]( https://docs.google.com/uc?export=download&id=1oKIi5t0GlSKAoPTIt1f-DcOu0GcYHDD4)"
      ]
    },
    {
      "cell_type": "code",
      "metadata": {
        "colab": {
          "base_uri": "https://localhost:8080/"
        },
        "id": "J3EInPeD3rW4",
        "outputId": "580e5592-1ba8-4b48-b2ad-46d3a4f7c2fd"
      },
      "source": [
        "from google.colab import drive\n",
        "drive.mount('/content/drive')"
      ],
      "execution_count": 2,
      "outputs": [
        {
          "output_type": "stream",
          "text": [
            "Mounted at /content/drive\n"
          ],
          "name": "stdout"
        }
      ]
    },
    {
      "cell_type": "code",
      "metadata": {
        "colab": {
          "base_uri": "https://localhost:8080/"
        },
        "id": "TXaU4rzJxqZF",
        "outputId": "fc045ce7-617e-498e-d83d-91be05898b2c"
      },
      "source": [
        "import os\n",
        "os.chdir(\"/content/drive/My Drive/flask-sqlite-login\")\n",
        "!pwd\n",
        "!ls"
      ],
      "execution_count": 3,
      "outputs": [
        {
          "output_type": "stream",
          "text": [
            "/content/drive/My Drive/flask-sqlite-login\n",
            " Data_Generate_Reg_Eun_30.csv\n",
            " dataset_dump.csv\n",
            " fga_big_data_Eunice.db\n",
            " indexzz.html\n",
            "'Memasukkan data usulan ke db_Eunice Cristine.ipynb'\n",
            " Sesi_17_Flask_x_Google_Colab_Part1of2_CSV_to_SQLite3.ipynb\n",
            " Sesi_17_Flask_x_Google_Colab_Part2of2.ipynb\n",
            " static\n",
            " templates\n"
          ],
          "name": "stdout"
        }
      ]
    },
    {
      "cell_type": "code",
      "metadata": {
        "id": "NUbm7_CFlyVL"
      },
      "source": [
        "!pip install flask-ngrok\n",
        "!pip install flask==0.12.2  # Newer versions of flask don't work in Colab\n",
        "                            # See https://github.com/plotly/dash/issues/257"
      ],
      "execution_count": null,
      "outputs": []
    },
    {
      "cell_type": "code",
      "metadata": {
        "id": "8mPgCRyocWfd"
      },
      "source": [
        "# !pip install flask\n",
        "!pip install SQLAlchemy\n",
        "!pip install Flask-SQLAlchemy"
      ],
      "execution_count": null,
      "outputs": []
    },
    {
      "cell_type": "code",
      "metadata": {
        "id": "sfuwsSbI2U8z"
      },
      "source": [
        "!pip install flask-login"
      ],
      "execution_count": null,
      "outputs": []
    },
    {
      "cell_type": "code",
      "metadata": {
        "id": "XgVVDX7nPgBc"
      },
      "source": [
        "!sudo pip install flask-wtf"
      ],
      "execution_count": null,
      "outputs": []
    },
    {
      "cell_type": "code",
      "metadata": {
        "id": "PVl7o0MQPtF1"
      },
      "source": [
        "pip install email_validator"
      ],
      "execution_count": null,
      "outputs": []
    },
    {
      "cell_type": "code",
      "metadata": {
        "id": "215EgLE4lyIZ"
      },
      "source": [
        "from flask import Flask\n",
        "from flask_ngrok import run_with_ngrok"
      ],
      "execution_count": 7,
      "outputs": []
    },
    {
      "cell_type": "code",
      "metadata": {
        "id": "urPFG7ujl7E7"
      },
      "source": [
        "# ========================================================"
      ],
      "execution_count": null,
      "outputs": []
    },
    {
      "cell_type": "code",
      "metadata": {
        "colab": {
          "base_uri": "https://localhost:8080/"
        },
        "id": "4y_M1N8Wl68D",
        "outputId": "6d9ee9b9-26ba-4c77-8d4e-b59b4f37d4c0"
      },
      "source": [
        "# flask_ngrok_example.py\n",
        "from flask import Flask,render_template,flash, redirect,url_for,session,logging,request\n",
        "from flask_sqlalchemy import SQLAlchemy\n",
        "from flask_ngrok import run_with_ngrok\n",
        "\n",
        "# !pip install SQLAlchemy\n",
        "# !pip install Flask-SQLAlchemy\n",
        "\n",
        "# app = Flask(__name__)\n",
        "# app = Flask(__name__, static_url_path='/static')\n",
        "app = Flask(__name__, static_folder='static')\n",
        "run_with_ngrok(app)  # Start ngrok when app is run\n",
        "\n",
        "# app = Flask(__name__)\n",
        "app.config['SQLALCHEMY_DATABASE_URI'] = 'sqlite:////fga_big_data_Eunice.db'\n",
        "db = SQLAlchemy(app)\n",
        "\n",
        "class user(db.Model):\n",
        "  #__tablename__ = 'users'\n",
        "  id = db.Column(db.Integer, primary_key=True)\n",
        "  # Mail \tPassword \tName \tLevel\n",
        "  Mail = db.Column(db.Text) # sbg Username\n",
        "  Password = db.Column(db.Text)\n",
        "  Name = db.Column(db.Text)\n",
        "  Level = db.Column(db.Text)\n",
        "\n",
        "  # username = Mail\n",
        "  # password = Password\n",
        "\n",
        "@app.route(\"/\")\n",
        "def index():\n",
        "    session['tmp'] = 43\n",
        "    return render_template(\"index.html\")\n",
        "\n",
        "@app.route(\"/login\",methods=[\"GET\", \"POST\"])\n",
        "def login():\n",
        "    msg = \"\"\n",
        "    if request.method == \"POST\":\n",
        "        mail = request.form[\"mail\"]\n",
        "        passw = request.form[\"passw\"]\n",
        "        \n",
        "        login = user.query.filter_by(Mail=mail, Password=passw).first()\n",
        "        print(login)\n",
        "        if login is not None:\n",
        "            # return redirect(url_for(\"index\"))\n",
        "            # return redirect(url_for(\"bigdataApps\"))\n",
        "            return render_template('bigdataApps.html', login = login)\n",
        "        elif login is None:\n",
        "            msg = \"Masukkan Username (Email) dan Password dgn Benar\"\n",
        "            print(msg)\n",
        "\n",
        "    return render_template(\"login.html\", msg = msg)\n",
        "\n",
        "@app.route(\"/register\", methods=[\"GET\", \"POST\"])\n",
        "def register():\n",
        "    if request.method == \"POST\":\n",
        "        mail = request.form['mail']\n",
        "        uname = request.form['uname']\n",
        "        passw = request.form['passw']\n",
        "\n",
        "        register = user(Mail = mail, Name = uname, Password = passw)\n",
        "        # register = user(Mail = mail, Password = passw)\n",
        "        db.session.add(register)\n",
        "        db.session.commit()\n",
        "\n",
        "        return redirect(url_for(\"login\"))\n",
        "    return render_template(\"register.html\")\n",
        "\n",
        "@app.route('/signout')\n",
        "def sign_out():\n",
        "    session.pop('tmp')\n",
        "    return redirect(url_for(\"index\"))\n",
        "\n",
        "@app.route(\"/bigdataApps\", methods=[\"GET\", \"POST\"])\n",
        "def bigdataApps():\n",
        "  # return \"Hello FGA Big Data Using Python!\" \n",
        "\tif request.method == 'POST':\n",
        "\t\timport pandas as pd\n",
        "\t\timport numpy as np\n",
        "\t\tdataset = request.FILES['inputDataset']\n",
        "    # dataset = request.files['inputDataset']\n",
        "     \n",
        "\t\tpersentase_data_training = 90\n",
        "\t\tbanyak_fitur = int(request.POST['banyakFitur'])\n",
        "\t\tbanyak_hidden_neuron = int(request.POST['banyakHiddenNeuron'])\n",
        "\n",
        "\t\tdataset = pd.read_csv(dataset, delimiter=';', names = ['Tanggal', 'Harga'], usecols=['Harga'])\n",
        "\t\tminimum = int(dataset.min()-10000)\n",
        "\t\tmaksimum = int(dataset.max()+10000)\n",
        "\t\tnew_banyak_fitur = banyak_fitur + 1\n",
        "\t\thasil_fitur = []\n",
        "\t\tfor i in range((len(dataset)-new_banyak_fitur)+1):\n",
        "\t\t\tkolom = []\n",
        "\t\t\tj = i\n",
        "\t\t\twhile j < (i+new_banyak_fitur):\n",
        "\t\t\t\tkolom.append(dataset.values[j][0])\n",
        "\t\t\t\tj += 1\n",
        "\t\t\thasil_fitur.append(kolom)\n",
        "\t\thasil_fitur = np.array(hasil_fitur)\n",
        "\t\tdata_normalisasi = (hasil_fitur - minimum)/(maksimum - minimum)\n",
        "\n",
        "\t\tdata_training = data_normalisasi[:int(persentase_data_training*len(data_normalisasi)/100)]\n",
        "\t\tdata_testing = data_normalisasi[int(persentase_data_training*len(data_normalisasi)/100):]\n",
        "\n",
        "\t\t#Training\n",
        "\t\tbobot = np.random.rand(banyak_hidden_neuron, banyak_fitur)\n",
        "\t\tbias = np.random.rand(banyak_hidden_neuron)\n",
        "\t\th = 1/(1 + np.exp(-(np.dot(data_training[:, :banyak_fitur], np.transpose(bobot)) + bias)))\n",
        "\t\th_plus = np.dot(np.linalg.inv(np.dot(np.transpose(h),h)),np.transpose(h))\n",
        "\t\toutput_weight = np.dot(h_plus, data_training[:, banyak_fitur])\n",
        "\n",
        "\t\t#Testing\n",
        "\t\th = 1/(1 + np.exp(-(np.dot(data_testing[:, :banyak_fitur], np.transpose(bobot)) + bias)))\n",
        "\t\tpredict = np.dot(h, output_weight)\n",
        "\t\tpredict = predict * (maksimum - minimum) + minimum\n",
        "\n",
        "\t\t#MAPE\n",
        "\t\taktual = np.array(hasil_fitur[int(persentase_data_training*len(data_normalisasi)/100):, banyak_fitur])\n",
        "\t\tmape = np.sum(np.abs(((aktual - predict)/aktual)*100))/len(predict)\n",
        "\t\treturn render_template('bigdataApps.html', {\n",
        "\t\t'y_aktual' : list(aktual),\n",
        "\t\t'y_prediksi' : list(predict),\n",
        "\t\t'mape' : mape\n",
        "\t})\n",
        "\telse:\n",
        "\t\treturn render_template('bigdataApps.html')\n",
        "\n",
        "if __name__ == '__main__':\n",
        "  db.create_all()\n",
        "  app.secret_key = 'A0Zr98j/3yX R~XHH!jmN]LWX/,?Rz'\n",
        "  app.run()  # If address is in use, may need to terminate other sessions:\n",
        "             # Runtime > Manage Sessions > Terminate Other Sessions"
      ],
      "execution_count": 57,
      "outputs": [
        {
          "output_type": "stream",
          "text": [
            "/usr/local/lib/python3.7/dist-packages/flask_sqlalchemy/__init__.py:873: FSADeprecationWarning: SQLALCHEMY_TRACK_MODIFICATIONS adds significant overhead and will be disabled by default in the future.  Set it to True or False to suppress this warning.\n",
            "  'SQLALCHEMY_TRACK_MODIFICATIONS adds significant overhead and '\n",
            " * Running on http://127.0.0.1:5000/ (Press CTRL+C to quit)\n"
          ],
          "name": "stderr"
        },
        {
          "output_type": "stream",
          "text": [
            " * Running on http://deae9e51ec67.ngrok.io\n",
            " * Traffic stats available on http://127.0.0.1:4040\n"
          ],
          "name": "stdout"
        },
        {
          "output_type": "stream",
          "text": [
            "127.0.0.1 - - [08/Aug/2021 13:44:09] \"\u001b[37mGET / HTTP/1.1\u001b[0m\" 200 -\n",
            "127.0.0.1 - - [08/Aug/2021 13:44:09] \"\u001b[37mGET /static/css/style2.css HTTP/1.1\u001b[0m\" 200 -\n",
            "127.0.0.1 - - [08/Aug/2021 13:44:10] \"\u001b[33mGET /favicon.ico HTTP/1.1\u001b[0m\" 404 -\n",
            "127.0.0.1 - - [08/Aug/2021 13:44:10] \"\u001b[37mGET / HTTP/1.1\u001b[0m\" 200 -\n",
            "127.0.0.1 - - [08/Aug/2021 13:44:12] \"\u001b[37mGET /static/css/style2.css HTTP/1.1\u001b[0m\" 200 -\n",
            "127.0.0.1 - - [08/Aug/2021 13:44:43] \"\u001b[37mGET /register HTTP/1.1\u001b[0m\" 200 -\n",
            "127.0.0.1 - - [08/Aug/2021 13:44:44] \"\u001b[37mGET /static/css/style4.css HTTP/1.1\u001b[0m\" 200 -\n",
            "127.0.0.1 - - [08/Aug/2021 13:44:45] \"\u001b[37mGET /register HTTP/1.1\u001b[0m\" 200 -\n",
            "127.0.0.1 - - [08/Aug/2021 13:44:46] \"\u001b[37mGET /static/css/style4.css HTTP/1.1\u001b[0m\" 200 -\n",
            "127.0.0.1 - - [08/Aug/2021 13:45:05] \"\u001b[37mGET /login HTTP/1.1\u001b[0m\" 200 -\n",
            "127.0.0.1 - - [08/Aug/2021 13:45:07] \"\u001b[37mGET /login HTTP/1.1\u001b[0m\" 200 -\n",
            "127.0.0.1 - - [08/Aug/2021 13:45:08] \"\u001b[37mGET /static/css/style4.css HTTP/1.1\u001b[0m\" 200 -\n",
            "127.0.0.1 - - [08/Aug/2021 13:45:43] \"\u001b[37mPOST /login HTTP/1.1\u001b[0m\" 200 -\n"
          ],
          "name": "stderr"
        },
        {
          "output_type": "stream",
          "text": [
            "<user 2>\n"
          ],
          "name": "stdout"
        },
        {
          "output_type": "stream",
          "text": [
            "127.0.0.1 - - [08/Aug/2021 13:45:44] \"\u001b[37mGET /static/css/chartist-plugin-tooltip.css HTTP/1.1\u001b[0m\" 200 -\n",
            "127.0.0.1 - - [08/Aug/2021 13:45:44] \"\u001b[37mGET /static/css/bootstrap.min.css HTTP/1.1\u001b[0m\" 200 -\n",
            "127.0.0.1 - - [08/Aug/2021 13:45:44] \"\u001b[37mGET /static/css/chartist.min.css HTTP/1.1\u001b[0m\" 200 -\n",
            "127.0.0.1 - - [08/Aug/2021 13:45:44] \"\u001b[37mGET /static/css/morris.css HTTP/1.1\u001b[0m\" 200 -\n",
            "127.0.0.1 - - [08/Aug/2021 13:45:44] \"\u001b[37mGET /static/css/sidebar-nav.min.css HTTP/1.1\u001b[0m\" 200 -\n",
            "127.0.0.1 - - [08/Aug/2021 13:45:44] \"\u001b[37mGET /static/css/jquery.toast.css HTTP/1.1\u001b[0m\" 200 -\n",
            "127.0.0.1 - - [08/Aug/2021 13:45:44] \"\u001b[37mGET /static/css/fullcalendar.css HTTP/1.1\u001b[0m\" 200 -\n",
            "127.0.0.1 - - [08/Aug/2021 13:45:44] \"\u001b[37mGET /static/css/animate.css HTTP/1.1\u001b[0m\" 200 -\n",
            "127.0.0.1 - - [08/Aug/2021 13:45:44] \"\u001b[37mGET /static/css/style.css HTTP/1.1\u001b[0m\" 200 -\n",
            "127.0.0.1 - - [08/Aug/2021 13:45:45] \"\u001b[37mGET /static/css/spinners.css HTTP/1.1\u001b[0m\" 200 -\n",
            "127.0.0.1 - - [08/Aug/2021 13:45:45] \"\u001b[37mGET /static/css/blue-dark.css HTTP/1.1\u001b[0m\" 200 -\n",
            "127.0.0.1 - - [08/Aug/2021 13:45:45] \"\u001b[37mGET /static/js/jquery.min.js HTTP/1.1\u001b[0m\" 200 -\n",
            "127.0.0.1 - - [08/Aug/2021 13:45:45] \"\u001b[37mGET /static/js/jquery.sparkline.min.js HTTP/1.1\u001b[0m\" 200 -\n",
            "127.0.0.1 - - [08/Aug/2021 13:45:45] \"\u001b[37mGET /static/js/script.js HTTP/1.1\u001b[0m\" 200 -\n",
            "127.0.0.1 - - [08/Aug/2021 13:45:45] \"\u001b[37mGET /static/js/bootstrap.min.js HTTP/1.1\u001b[0m\" 200 -\n",
            "127.0.0.1 - - [08/Aug/2021 13:45:45] \"\u001b[37mGET /static/js/sidebar-nav.min.js HTTP/1.1\u001b[0m\" 200 -\n",
            "127.0.0.1 - - [08/Aug/2021 13:45:46] \"\u001b[37mGET /static/js/jquery.slimscroll.js HTTP/1.1\u001b[0m\" 200 -\n",
            "127.0.0.1 - - [08/Aug/2021 13:45:46] \"\u001b[37mGET /static/js/waves.js HTTP/1.1\u001b[0m\" 200 -\n",
            "127.0.0.1 - - [08/Aug/2021 13:45:46] \"\u001b[37mGET /static/js/raphael-min.js HTTP/1.1\u001b[0m\" 200 -\n",
            "127.0.0.1 - - [08/Aug/2021 13:45:46] \"\u001b[37mGET /static/js/morris.js HTTP/1.1\u001b[0m\" 200 -\n",
            "127.0.0.1 - - [08/Aug/2021 13:45:46] \"\u001b[37mGET /static/js/chartist.min.js HTTP/1.1\u001b[0m\" 200 -\n",
            "127.0.0.1 - - [08/Aug/2021 13:45:46] \"\u001b[37mGET /static/js/chartist-plugin-tooltip.min.js HTTP/1.1\u001b[0m\" 200 -\n",
            "127.0.0.1 - - [08/Aug/2021 13:45:46] \"\u001b[37mGET /static/js/moment.js HTTP/1.1\u001b[0m\" 200 -\n",
            "127.0.0.1 - - [08/Aug/2021 13:45:46] \"\u001b[37mGET /static/js/fullcalendar.min.js HTTP/1.1\u001b[0m\" 200 -\n",
            "127.0.0.1 - - [08/Aug/2021 13:45:46] \"\u001b[37mGET /static/js/cal-init.js HTTP/1.1\u001b[0m\" 200 -\n",
            "127.0.0.1 - - [08/Aug/2021 13:45:46] \"\u001b[37mGET /static/js/custom.min.js HTTP/1.1\u001b[0m\" 200 -\n",
            "127.0.0.1 - - [08/Aug/2021 13:45:46] \"\u001b[37mGET /static/js/dashboard1.js HTTP/1.1\u001b[0m\" 200 -\n",
            "127.0.0.1 - - [08/Aug/2021 13:45:46] \"\u001b[37mGET /static/js/cbpFWTabs.js HTTP/1.1\u001b[0m\" 200 -\n",
            "127.0.0.1 - - [08/Aug/2021 13:45:47] \"\u001b[37mGET /static/css/icons/font-awesome/css/fontawesome-all.css HTTP/1.1\u001b[0m\" 200 -\n",
            "127.0.0.1 - - [08/Aug/2021 13:45:47] \"\u001b[37mGET /static/css/icons/themify-icons/themify-icons.css HTTP/1.1\u001b[0m\" 200 -\n",
            "127.0.0.1 - - [08/Aug/2021 13:45:47] \"\u001b[37mGET /static/css/icons/simple-line-icons/css/simple-line-icons.css HTTP/1.1\u001b[0m\" 200 -\n",
            "127.0.0.1 - - [08/Aug/2021 13:45:47] \"\u001b[37mGET /static/css/icons/weather-icons/css/weather-icons.min.css HTTP/1.1\u001b[0m\" 200 -\n",
            "127.0.0.1 - - [08/Aug/2021 13:45:47] \"\u001b[37mGET /static/css/icons/linea-icons/linea.css HTTP/1.1\u001b[0m\" 200 -\n",
            "127.0.0.1 - - [08/Aug/2021 13:45:47] \"\u001b[37mGET /static/css/icons/material-design-iconic-font/css/materialdesignicons.min.css HTTP/1.1\u001b[0m\" 200 -\n",
            "127.0.0.1 - - [08/Aug/2021 13:45:47] \"\u001b[37mGET /static/js/jquery.toast.js HTTP/1.1\u001b[0m\" 200 -\n",
            "127.0.0.1 - - [08/Aug/2021 13:45:47] \"\u001b[37mGET /static/js/jQuery.style.switcher.js HTTP/1.1\u001b[0m\" 200 -\n",
            "127.0.0.1 - - [08/Aug/2021 13:45:47] \"\u001b[37mGET /static/js/jasny-bootstrap.js HTTP/1.1\u001b[0m\" 200 -\n",
            "127.0.0.1 - - [08/Aug/2021 13:45:47] \"\u001b[37mGET /static/js/highcharts.js HTTP/1.1\u001b[0m\" 200 -\n",
            "127.0.0.1 - - [08/Aug/2021 13:45:47] \"\u001b[37mGET /static/img/ub.png HTTP/1.1\u001b[0m\" 200 -\n",
            "127.0.0.1 - - [08/Aug/2021 13:45:47] \"\u001b[37mGET /static/img/filkom1.png HTTP/1.1\u001b[0m\" 200 -\n",
            "127.0.0.1 - - [08/Aug/2021 13:45:47] \"\u001b[33mGET /plugins/images/users/pawandeep.jpg HTTP/1.1\u001b[0m\" 404 -\n",
            "127.0.0.1 - - [08/Aug/2021 13:45:47] \"\u001b[33mGET /plugins/images/users/sonu.jpg HTTP/1.1\u001b[0m\" 404 -\n",
            "127.0.0.1 - - [08/Aug/2021 13:45:47] \"\u001b[33mGET /plugins/images/users/arijit.jpg HTTP/1.1\u001b[0m\" 404 -\n",
            "127.0.0.1 - - [08/Aug/2021 13:45:47] \"\u001b[37mGET /static/img/guest.png HTTP/1.1\u001b[0m\" 200 -\n",
            "127.0.0.1 - - [08/Aug/2021 13:45:48] \"\u001b[37mGET /static/css/icons/font-awesome/webfonts/fa-solid-900.woff2 HTTP/1.1\u001b[0m\" 200 -\n",
            "127.0.0.1 - - [08/Aug/2021 13:45:48] \"\u001b[37mGET /static/css/icons/material-design-iconic-font/fonts/materialdesignicons-webfont.woff2?v=1.8.36 HTTP/1.1\u001b[0m\" 200 -\n",
            "127.0.0.1 - - [08/Aug/2021 13:45:48] \"\u001b[37mGET /static/css/icons/themify-icons/fonts/themify.woff?-fvbane HTTP/1.1\u001b[0m\" 200 -\n"
          ],
          "name": "stderr"
        }
      ]
    },
    {
      "cell_type": "code",
      "metadata": {
        "colab": {
          "base_uri": "https://localhost:8080/"
        },
        "id": "3Nepzxw_5Hcd",
        "outputId": "ac42c8a8-2abb-42cb-8c78-e635c2e77f34"
      },
      "source": [
        "!pip install Jinja2"
      ],
      "execution_count": null,
      "outputs": [
        {
          "output_type": "stream",
          "text": [
            "Requirement already satisfied: Jinja2 in /usr/local/lib/python3.7/dist-packages (2.11.3)\n",
            "Requirement already satisfied: MarkupSafe>=0.23 in /usr/local/lib/python3.7/dist-packages (from Jinja2) (2.0.1)\n"
          ],
          "name": "stdout"
        }
      ]
    },
    {
      "cell_type": "code",
      "metadata": {
        "id": "u0wLhDSU4vV4"
      },
      "source": [
        "!pip freeze"
      ],
      "execution_count": null,
      "outputs": []
    },
    {
      "cell_type": "code",
      "metadata": {
        "colab": {
          "base_uri": "https://localhost:8080/"
        },
        "id": "LiyC3DGHG3xQ",
        "outputId": "d1445a76-710c-47f0-9e12-cd2ebd8884df"
      },
      "source": [
        "%%file ./templates/include/script.html\n",
        "<!-- Jquery JavaScript -->\n",
        "<script type=\"text/javascript\" src=\"{{ url_for('static', filename = 'js/jquery.min.js') }}\"></script>\n",
        "<!-- Jquery JavaScript -->\n",
        "<script type=\"text/javascript\" src=\"{{ url_for('static', filename = 'js/jquery.sparkline.min.js') }}\"></script>\n",
        "<script type=\"text/javascript\" src=\"{{ url_for('static', filename = 'js/script.js') }}\"></script>\n",
        "<!-- Bootstrap Core JavaScript -->\n",
        "<script type=\"text/javascript\" src=\"{{ url_for('static', filename = 'js/bootstrap.min.js') }}\"></script>\n",
        "<!-- Menu Plugin JavaScript -->\n",
        "<script type=\"text/javascript\" src=\"{{ url_for('static', filename = 'js/sidebar-nav.min.js') }}\"></script>\n",
        "<!--slimscroll JavaScript -->\n",
        "<script type=\"text/javascript\" src=\"{{ url_for('static', filename = 'js/jquery.slimscroll.js') }}\"></script>\n",
        "<!--Wave Effects -->\n",
        "<script type=\"text/javascript\" src=\"{{ url_for('static', filename = 'js/waves.js') }}\"></script>\n",
        "<!--Morris JavaScript -->\n",
        "<script type=\"text/javascript\" src=\"{{ url_for('static', filename = 'js/raphael-min.js') }}\"></script>\n",
        "<script type=\"text/javascript\" src=\"{{ url_for('static', filename = 'js/morris.js') }}\"></script>\n",
        "<!-- chartist chart -->\n",
        "<script type=\"text/javascript\" src=\"{{ url_for('static', filename = 'js/chartist.min.js') }}\"></script>\n",
        "<script type=\"text/javascript\" src=\"{{ url_for('static', filename = 'js/chartist-plugin-tooltip.min.js') }}\"></script>\n",
        "<!-- Calendar JavaScript -->\n",
        "<script type=\"text/javascript\" src=\"{{ url_for('static', filename = 'js/moment.js') }}\"></script>\n",
        "<script type=\"text/javascript\" src=\"{{ url_for('static', filename = 'js/fullcalendar.min.js') }}\"></script>\n",
        "<script type=\"text/javascript\" src=\"{{ url_for('static', filename = 'js/cal-init.js') }}\"></script>\n",
        "<!-- Custom Theme JavaScript -->\n",
        "<script type=\"text/javascript\" src=\"{{ url_for('static', filename = 'js/custom.min.js') }}\"></script>\n",
        "<script type=\"text/javascript\" src=\"{{ url_for('static', filename = 'js/dashboard1.js') }}\"></script>\n",
        "<!-- Custom tab JavaScript -->\n",
        "<script type=\"text/javascript\" src=\"{{ url_for('static', filename = 'js/cbpFWTabs.js') }}\"></script>\n",
        "<script type=\"text/javascript\" >\n",
        "(function() {\n",
        "    [].slice.call(document.querySelectorAll('.sttabs')).forEach(function(el) {\n",
        "        new CBPFWTabs(el);\n",
        "    });\n",
        "})();\n",
        "</script>\n",
        "<!-- Toast JavaScript -->\n",
        "<script type=\"text/javascript\" src=\"{{ url_for('static', filename = 'js/jquery.toast.js') }}\"></script>\n",
        "<!--Style Switcher -->\n",
        "<script type=\"text/javascript\" src=\"{{ url_for('static', filename = 'js/jQuery.style.switcher.js') }}\"></script>\n",
        "<!--File Upload -->\n",
        "<script type=\"text/javascript\" src=\"{{ url_for('static', filename = 'js/jasny-bootstrap.js') }}\"></script>\n",
        "<script type=\"text/javascript\" src=\"{{ url_for('static', filename = 'js/highcharts.js') }}\"></script>\n",
        "<script>\n",
        "Highcharts.chart('hasilGrafik', {\n",
        "    chart: {\n",
        "        type: 'spline'\n",
        "    },\n",
        "    \n",
        "    title: {\n",
        "        text: 'Prediksi Harga Kebutuhan Pokok'\n",
        "    },\n",
        "\n",
        "    xAxis: {\n",
        "        title: {\n",
        "            text: 'Data ke-'\n",
        "        }\n",
        "    },\n",
        "\n",
        "    yAxis: {\n",
        "        title: {\n",
        "            text: 'Harga (Rupiah)'\n",
        "        }\n",
        "    },\n",
        "\n",
        "    legend: {\n",
        "        layout: 'vertical',\n",
        "        align: 'right',\n",
        "        verticalAlign: 'middle'\n",
        "    },\n",
        "\n",
        "    plotOptions: {\n",
        "        series: {\n",
        "            label: {\n",
        "                connectorAllowed: false\n",
        "            }\n",
        "        }\n",
        "    },\n",
        "\n",
        "    series: [{\n",
        "        name: 'Y Aktual',\n",
        "        data:  {{ y_aktual }}\n",
        "    }, {\n",
        "        name: 'Y Prediksi',\n",
        "        data: {{ y_prediksi }}\n",
        "    }],\n",
        "\n",
        "    responsive: {\n",
        "        rules: [{\n",
        "            condition: {\n",
        "                maxWidth: 500\n",
        "            },\n",
        "            chartOptions: {\n",
        "                legend: {\n",
        "                    layout: 'horizontal',\n",
        "                    align: 'center',\n",
        "                    verticalAlign: 'bottom'\n",
        "                }\n",
        "            }\n",
        "        }]\n",
        "    }\n",
        "\n",
        "});\n",
        "</script>"
      ],
      "execution_count": null,
      "outputs": [
        {
          "output_type": "stream",
          "text": [
            "Overwriting ./templates/include/script.html\n"
          ],
          "name": "stdout"
        }
      ]
    },
    {
      "cell_type": "code",
      "metadata": {
        "colab": {
          "base_uri": "https://localhost:8080/"
        },
        "id": "r5aAu03hGpdS",
        "outputId": "e27e19c3-b522-4f69-8796-86ef7b25051a"
      },
      "source": [
        "%%file ./templates/include/left_sidebar.html\n",
        "<div class=\"navbar-default sidebar\" role=\"navigation\">\n",
        "    <div class=\"sidebar-nav slimscrollsidebar\">\n",
        "        <div class=\"sidebar-head\">\n",
        "            <h3><span class=\"fa-fw open-close\"><i class=\"ti-menu hidden-xs\"></i><i class=\"ti-close visible-xs\"></i></span> <span class=\"hide-menu\">Menu</span></h3> </div>\n",
        "        <ul class=\"nav\" id=\"side-menu\">\n",
        "            <li class=\"user-pro\">\n",
        "                <a href=\"#\" class=\"waves-effect\"><img src=\"{{ url_for('static', filename = 'img/guest.png') }}\" alt=\"user-img\" class=\"img-circle\"> <span class=\"hide-menu\">{{login.Name}}<span class=\"fa arrow\"></span></span>\n",
        "                </a>\n",
        "                <ul class=\"nav nav-second-level collapse\" aria-expanded=\"false\" style=\"height: 0px;\">\n",
        "                    <li><a href=\"javascript:void(0)\"><i class=\"ti-user\"></i> <span class=\"hide-menu\">My Profile</span></a></li>\n",
        "                    <li><a href=\"javascript:void(0)\"><i class=\"fa fa-power-off\"></i> <span class=\"hide-menu\">Logout</span></a></li>\n",
        "                </ul>\n",
        "            </li>\n",
        "            <li class=\"devider\"></li>\n",
        "            <li> <a href=\"week1\" class=\"waves-effect\"><i class=\"mdi mdi-numeric-1-box-multiple-outline fa-fw\"></i><span class=\"hide-menu\">Week 1</span></a> </li>\n",
        "            <li> <a href=\"week21\" class=\"waves-effect\"><i class=\"mdi mdi-numeric-2-box-multiple-outline fa-fw\" data-icon=\"v\"></i> <span class=\"hide-menu\"> Week 2 <span class=\"fa arrow\"></span> <span class=\"label label-rouded label-inverse pull-right\">2</span></span></a>\n",
        "                <ul class=\"nav nav-second-level\">\n",
        "                    <li> <a href=\"week21\"><i class=\" fa-fw\">1</i><span class=\"hide-menu\">Task 1</span></a> </li>\n",
        "                    <li> <a href=\"week22\"><i class=\" fa-fw\">2</i><span class=\"hide-menu\">Task 2</span></a> </li>\n",
        "                </ul>\n",
        "            </li>\n",
        "            <li> <a href=\"week3\" class=\"waves-effect\"><i class=\"mdi mdi-numeric-3-box-multiple-outline fa-fw\"></i><span class=\"hide-menu\">Week 3</span></a> </li>\n",
        "            <li> <a href=\"week4\" class=\"waves-effect\"><i class=\"mdi mdi-numeric-4-box-multiple-outline fa-fw\"></i><span class=\"hide-menu\">Week 4</span></a> </li>\n",
        "            <li> <a href=\"week5\" class=\"waves-effect\"><i class=\"mdi mdi-numeric-5-box-multiple-outline fa-fw\"></i><span class=\"hide-menu\">Week 5</span></a> </li>\n",
        "            <li> <a href=\"week6\" class=\"waves-effect\"><i class=\"mdi mdi-numeric-6-box-multiple-outline fa-fw\"></i><span class=\"hide-menu\">Week 6</span></a> </li>\n",
        "            <li> <a href=\"week7\" class=\"waves-effect\"><i class=\"mdi mdi-numeric-7-box-multiple-outline fa-fw\"></i><span class=\"hide-menu\">Week 7</span></a> </li>\n",
        "            <li> <a href=\"week8\" class=\"waves-effect\"><i class=\"mdi mdi-numeric-8-box-multiple-outline fa-fw\"></i><span class=\"hide-menu\">Week 8</span></a> </li>\n",
        "        </ul>\n",
        "    </div>\n",
        "</div>"
      ],
      "execution_count": 52,
      "outputs": [
        {
          "output_type": "stream",
          "text": [
            "Overwriting ./templates/include/left_sidebar.html\n"
          ],
          "name": "stdout"
        }
      ]
    },
    {
      "cell_type": "code",
      "metadata": {
        "colab": {
          "base_uri": "https://localhost:8080/"
        },
        "id": "6tnuwbD5GQEX",
        "outputId": "05f9c2b0-f271-45d1-dab8-c1a281c9b8b1"
      },
      "source": [
        "%%file ./templates/include/top_header.html\n",
        "<nav class=\"navbar navbar-default navbar-static-top m-b-0\">\n",
        "    <div class=\"navbar-header\">\n",
        "        <div class=\"top-left-part\">\n",
        "            <a class=\"logo\" href=\"index.html\">\n",
        "                <b>\n",
        "                    <img src=\"{{ url_for('static', filename = 'img/ub.png') }}\" alt=\"home\" class=\"dark-logo\" />\n",
        "                </b>\n",
        "                <span class=\"hidden-xs\">\n",
        "                    <img src=\"{{ url_for('static', filename = 'img/filkom1.png') }}\" alt=\"home\" class=\"dark-logo\" />\n",
        "                </span> \n",
        "            </a>\n",
        "        </div>\n",
        "        <!-- Search input and Toggle icon -->\n",
        "        <ul class=\"nav navbar-top-links navbar-left\">\n",
        "            <li><a href=\"javascript:void(0)\" class=\"open-close waves-effect waves-light visible-xs\"><i class=\"ti-close ti-menu\"></i></a></li>\n",
        "            <li class=\"dropdown\">\n",
        "                <a class=\"dropdown-toggle waves-effect waves-light\" data-toggle=\"dropdown\" href=\"#\"> <i class=\"mdi mdi-gmail\"></i>\n",
        "                    <div class=\"notify\"> <span class=\"heartbit\"></span> <span class=\"point\"></span> </div>\n",
        "                </a>\n",
        "                <ul class=\"dropdown-menu mailbox animated bounceInDown\">\n",
        "                    <li>\n",
        "                        <div class=\"drop-title\">You have 4 new messages</div>\n",
        "                    </li>\n",
        "                    <li>\n",
        "                        <div class=\"message-center\">\n",
        "                            <a href=\"#\">\n",
        "                                <div class=\"user-img\"> <img src=\"../plugins/images/users/pawandeep.jpg\" alt=\"user\" class=\"img-circle\"> <span class=\"profile-status online pull-right\"></span> </div>\n",
        "                                <div class=\"mail-contnet\">\n",
        "                                    <h5>Pavan kumar</h5> <span class=\"mail-desc\">Just see the my admin!</span> <span class=\"time\">9:30 AM</span> </div>\n",
        "                            </a>\n",
        "                            <a href=\"#\">\n",
        "                                <div class=\"user-img\"> <img src=\"../plugins/images/users/sonu.jpg\" alt=\"user\" class=\"img-circle\"> <span class=\"profile-status busy pull-right\"></span> </div>\n",
        "                                <div class=\"mail-contnet\">\n",
        "                                    <h5>Sonu Nigam</h5> <span class=\"mail-desc\">I've sung a song! See you at</span> <span class=\"time\">9:10 AM</span> </div>\n",
        "                            </a>\n",
        "                            <a href=\"#\">\n",
        "                                <div class=\"user-img\"> <img src=\"../plugins/images/users/arijit.jpg\" alt=\"user\" class=\"img-circle\"> <span class=\"profile-status away pull-right\"></span> </div>\n",
        "                                <div class=\"mail-contnet\">\n",
        "                                    <h5>Arijit Sinh</h5> <span class=\"mail-desc\">I am a singer!</span> <span class=\"time\">9:08 AM</span> </div>\n",
        "                            </a>\n",
        "                            <a href=\"#\">\n",
        "                                <div class=\"user-img\"> <img src=\"../plugins/images/users/pawandeep.jpg\" alt=\"user\" class=\"img-circle\"> <span class=\"profile-status offline pull-right\"></span> </div>\n",
        "                                <div class=\"mail-contnet\">\n",
        "                                    <h5>Pavan kumar</h5> <span class=\"mail-desc\">Just see the my admin!</span> <span class=\"time\">9:02 AM</span> </div>\n",
        "                            </a>\n",
        "                        </div>\n",
        "                    </li>\n",
        "                    <li>\n",
        "                        <a class=\"text-center\" href=\"javascript:void(0);\"> <strong>See all notifications</strong> <i class=\"fa fa-angle-right\"></i> </a>\n",
        "                    </li>\n",
        "                </ul>\n",
        "            </li>\n",
        "            <!-- .Task dropdown -->\n",
        "            <li class=\"dropdown\">\n",
        "                <a class=\"dropdown-toggle waves-effect waves-light\" data-toggle=\"dropdown\" href=\"#\"> <i class=\"mdi mdi-check-circle\"></i>\n",
        "                    <div class=\"notify\"><span class=\"heartbit\"></span><span class=\"point\"></span></div>\n",
        "                </a>\n",
        "                <ul class=\"dropdown-menu dropdown-tasks animated slideInUp\">\n",
        "                    <li>\n",
        "                        <a href=\"#\">\n",
        "                            <div>\n",
        "                                <p> <strong>Task 1</strong> <span class=\"pull-right text-muted\">40% Complete</span> </p>\n",
        "                                <div class=\"progress progress-striped active\">\n",
        "                                    <div class=\"progress-bar progress-bar-success\" role=\"progressbar\" aria-valuenow=\"40\" aria-valuemin=\"0\" aria-valuemax=\"100\" style=\"width: 40%\"> <span class=\"sr-only\">40% Complete (success)</span> </div>\n",
        "                                </div>\n",
        "                            </div>\n",
        "                        </a>\n",
        "                    </li>\n",
        "                    <li class=\"divider\"></li>\n",
        "                    <li>\n",
        "                        <a href=\"#\">\n",
        "                            <div>\n",
        "                                <p> <strong>Task 2</strong> <span class=\"pull-right text-muted\">20% Complete</span> </p>\n",
        "                                <div class=\"progress progress-striped active\">\n",
        "                                    <div class=\"progress-bar progress-bar-info\" role=\"progressbar\" aria-valuenow=\"20\" aria-valuemin=\"0\" aria-valuemax=\"100\" style=\"width: 20%\"> <span class=\"sr-only\">20% Complete</span> </div>\n",
        "                                </div>\n",
        "                            </div>\n",
        "                        </a>\n",
        "                    </li>\n",
        "                    <li class=\"divider\"></li>\n",
        "                    <li>\n",
        "                        <a href=\"#\">\n",
        "                            <div>\n",
        "                                <p> <strong>Task 3</strong> <span class=\"pull-right text-muted\">60% Complete</span> </p>\n",
        "                                <div class=\"progress progress-striped active\">\n",
        "                                    <div class=\"progress-bar progress-bar-warning\" role=\"progressbar\" aria-valuenow=\"60\" aria-valuemin=\"0\" aria-valuemax=\"100\" style=\"width: 60%\"> <span class=\"sr-only\">60% Complete (warning)</span> </div>\n",
        "                                </div>\n",
        "                            </div>\n",
        "                        </a>\n",
        "                    </li>\n",
        "                    <li class=\"divider\"></li>\n",
        "                    <li>\n",
        "                        <a href=\"#\">\n",
        "                            <div>\n",
        "                                <p> <strong>Task 4</strong> <span class=\"pull-right text-muted\">80% Complete</span> </p>\n",
        "                                <div class=\"progress progress-striped active\">\n",
        "                                    <div class=\"progress-bar progress-bar-danger\" role=\"progressbar\" aria-valuenow=\"80\" aria-valuemin=\"0\" aria-valuemax=\"100\" style=\"width: 80%\"> <span class=\"sr-only\">80% Complete (danger)</span> </div>\n",
        "                                </div>\n",
        "                            </div>\n",
        "                        </a>\n",
        "                    </li>\n",
        "                    <li class=\"divider\"></li>\n",
        "                    <li>\n",
        "                        <a class=\"text-center\" href=\"#\"> <strong>See All Tasks</strong> <i class=\"fa fa-angle-right\"></i> </a>\n",
        "                    </li>\n",
        "                </ul>\n",
        "            </li>\n",
        "        </ul>\n",
        "        <ul class=\"nav navbar-top-links navbar-right pull-right\">\n",
        "            <li>\n",
        "                <form role=\"search\" class=\"app-search hidden-sm hidden-xs m-r-10\">\n",
        "                    <input type=\"text\" placeholder=\"Search...\" class=\"form-control\"> <a href=\"\"><i class=\"fa fa-search\"></i></a> </form>\n",
        "            </li>\n",
        "            <li class=\"dropdown\">\n",
        "                <a class=\"dropdown-toggle profile-pic\" data-toggle=\"dropdown\" href=\"#\"> <img src=\"{{ url_for('static', filename = 'img/guest.png') }}\" alt=\"user-img\" width=\"36\" class=\"img-circle\"><b class=\"hidden-xs\">{{login.Name}}</b><span class=\"caret\"></span> </a>\n",
        "                <ul class=\"dropdown-menu dropdown-user animated flipInY\">\n",
        "                    <li>\n",
        "                        <div class=\"dw-user-box\">\n",
        "                            <div class=\"u-img\"><img src=\"{{ url_for('static', filename = 'img/guest.png') }}\" alt=\"user\" /></div>\n",
        "                            <div class=\"u-text\">\n",
        "                                <h4>{{login.Name}}</h4>\n",
        "                                <p class=\"text-muted\">{{login.Mail}}</p><a href=\"profile.html\" class=\"btn btn-rounded btn-danger btn-sm\">View Profile</a></div>\n",
        "                        </div>\n",
        "                    </li>\n",
        "                    <li role=\"separator\" class=\"divider\"></li>\n",
        "                    <li><a href=\"#\"><i class=\"ti-user\"></i> My Profile</a></li>\n",
        "                    <li><a href=\"/signout\"><i class=\"fa fa-power-off\"></i> Logout</a></li>\n",
        "                </ul>\n",
        "            </li>\n",
        "        </ul>\n",
        "    </div>\n",
        "</nav>"
      ],
      "execution_count": 53,
      "outputs": [
        {
          "output_type": "stream",
          "text": [
            "Overwriting ./templates/include/top_header.html\n"
          ],
          "name": "stdout"
        }
      ]
    },
    {
      "cell_type": "code",
      "metadata": {
        "colab": {
          "base_uri": "https://localhost:8080/"
        },
        "id": "_nCFhh7oEZtn",
        "outputId": "4101c771-f3b8-4b02-f005-65f6f4170f1d"
      },
      "source": [
        "%%file ./templates/include/link.html\n",
        "<link rel=\"shortcut icon\" href=\"https://filkom.ub.ac.id/assets/icons/xfavicon-32x32.png.pagespeed.ic.aoSXDJiknB.webp\" type=\"image/x-icon\"/>\n",
        "<!-- Bootstrap Core CSS -->\n",
        "<link rel=\"stylesheet\" type=\"text/css\" href=\"{{ url_for('static', filename = 'css/bootstrap.min.css') }}\" />\n",
        "<!-- Menu CSS -->\n",
        "<link rel=\"stylesheet\" type=\"text/css\" href=\"{{ url_for('static', filename = 'css/sidebar-nav.min.css') }}\" />\n",
        "<!-- toast CSS -->\n",
        "<link rel=\"stylesheet\" type=\"text/css\" href=\"{{ url_for('static', filename = 'css/jquery.toast.css') }}\" />\n",
        "<!-- morris CSS -->\n",
        "<link rel=\"stylesheet\" type=\"text/css\" href=\"{{ url_for('static', filename = 'css/morris.css') }}\" />\n",
        "<!-- chartist CSS -->\n",
        "<link rel=\"stylesheet\" type=\"text/css\" href=\"{{ url_for('static', filename = 'css/chartist.min.css') }}\" />\n",
        "<link rel=\"stylesheet\" type=\"text/css\" href=\"{{ url_for('static', filename = 'css/chartist-plugin-tooltip.css') }}\" />\n",
        "<!-- Calendar CSS -->\n",
        "<link rel=\"stylesheet\" type=\"text/css\" href=\"{{ url_for('static', filename = 'css/fullcalendar.css') }}\" />\n",
        "<!-- animation CSS -->\n",
        "<link rel=\"stylesheet\" type=\"text/css\" href=\"{{ url_for('static', filename = 'css/animate.css') }}\" />\n",
        "<!-- Custom CSS -->\n",
        "<link rel=\"stylesheet\" type=\"text/css\" href=\"{{ url_for('static', filename = 'css/style.css') }}\" />\n",
        "<!-- Spinner CSS -->\n",
        "<link rel=\"stylesheet\" type=\"text/css\" href=\"{{ url_for('static', filename = 'css/spinners.css') }}\" />\n",
        "<!-- color CSS -->\n",
        "<link rel=\"stylesheet\" type=\"text/css\" href=\"{{ url_for('static', filename = 'css/blue-dark.css') }}\" id=\"theme\" />"
      ],
      "execution_count": null,
      "outputs": [
        {
          "output_type": "stream",
          "text": [
            "Overwriting ./templates/include/link.html\n"
          ],
          "name": "stdout"
        }
      ]
    },
    {
      "cell_type": "code",
      "metadata": {
        "colab": {
          "base_uri": "https://localhost:8080/"
        },
        "id": "X4IzwGgq9eG3",
        "outputId": "e492680e-cccb-43ba-d512-52c29e473ed1"
      },
      "source": [
        "%%file ./templates/extends/base.html\n",
        "<!DOCTYPE html>\n",
        "<html lang=\"en\">\n",
        "<head>\n",
        "    <meta charset=\"UTF-8\">\n",
        "    <meta name=\"viewport\" content=\"width=device-width, initial-scale=1.0\">\n",
        "    <meta http-equiv=\"X-UA-Compatible\" content=\"ie=edge\">\n",
        "    <meta name=\"description\" content=\"\">\n",
        "    <meta name=\"author\" content=\"\">\n",
        "    {% block title %}{% endblock title %}\n",
        "    {% include \"include/link.html\" %}\n",
        "</head>\n",
        "<body>\n",
        "    {% include \"include/preloader.html\" %}\n",
        "    <div id=\"wrapper\">\n",
        "        {% include \"include/top_header.html\" %}\n",
        "        {% include \"include/left_sidebar.html\" %}\n",
        "        <!-- ============================================================== -->\n",
        "        <!-- Page Content -->\n",
        "        <!-- ============================================================== -->\n",
        "        <div id=\"page-wrapper\">\n",
        "            <div class=\"container-fluid\">\n",
        "                <div class=\"row bg-title\">\n",
        "                    <div class=\"col-lg-3 col-md-4 col-sm-4 col-xs-12\">\n",
        "                        <h4 class=\"page-title\">{{ self.title() }}</h4>\n",
        "                    </div>\n",
        "                    <div class=\"col-lg-9 col-sm-8 col-md-8 col-xs-12\">\n",
        "                       <ol class=\"breadcrumb\">\n",
        "                            <li><a href=\"#\">{{ self.title() }}</a></li>\n",
        "                            <li class=\"active\">{{ self.title() }}</li>\n",
        "                        </ol>\n",
        "                    </div>\n",
        "                </div>\n",
        "                {% block content %}{% endblock content %}\n",
        "            </div>\n",
        "            <!-- /.container-fluid -->\n",
        "            {% include \"include/footer.html\" %}\n",
        "        </div>\n",
        "        <!-- ============================================================== -->\n",
        "        <!-- End Page Content -->\n",
        "        <!-- ============================================================== -->\n",
        "    </div>\n",
        "</body>\n",
        "{% include \"include/script.html\" %}\n",
        "</html>"
      ],
      "execution_count": null,
      "outputs": [
        {
          "output_type": "stream",
          "text": [
            "Overwriting ./templates/extends/base.html\n"
          ],
          "name": "stdout"
        }
      ]
    },
    {
      "cell_type": "code",
      "metadata": {
        "colab": {
          "base_uri": "https://localhost:8080/"
        },
        "id": "Ivw2iuqD3JVQ",
        "outputId": "501210d7-be3c-4189-ddf4-d29b8946aa73"
      },
      "source": [
        "%%file ./templates/bigdataApps.html\n",
        "{% extends \"extends/base.html\" %}\n",
        "{% block title %}\n",
        "    <title>FGA Big Data Using Python</title>\n",
        "{% endblock title %}\n",
        "{{ self.title() }}\n",
        "    Home\n",
        "{{ self.title() }}\n",
        "<button onclick=\"window.location.href='/'\" class=\"btn btn-outline btn-rounded btn-info\">\n",
        "    <i class=\"ti-arrow-left m-l-5\"></i>\n",
        "    <span>Back Home</span>\n",
        "</button> Week 1\n",
        "\n",
        "{{ self.title() }}\n",
        "    Week 1\n",
        "\n",
        "{% block content %}\n",
        "\n",
        "<div class=\"row\" onload=\"myfunction()\">\n",
        "    <div class=\"col-md-3\"></div>\n",
        "    <div class=\"col-md-6\">\n",
        "        <div class=\"white-box\">\n",
        "            <div class=\"row\">\n",
        "                <h3 class=\"box-title m-b-0\">Input Parameter</h3>\n",
        "                <p class=\"text-muted m-b-30 font-13\"> Prediksi Harga Kebutuhan Pokok Menggunakan Algoritme <i>Extreme Learning Machine</i> </p>\n",
        "                <form class=\"form-horizontal\" action=\"bigdataApps\" method=\"POST\" enctype=\"multipart/form-data\">\n",
        "                    <input type=\"hidden\" name=\"csrfmiddlewaretoken\" value=\"{{ csrf_token }}\">\n",
        "                    <div class=\"form-group\">\n",
        "                        <label class=\"col-sm-12\">Upload File Dataset <sub>.csv</sub></label>\n",
        "                        <div class=\"col-sm-12\">\n",
        "                            <div class=\"fileinput fileinput-new input-group\" data-provides=\"fileinput\">\n",
        "                                <div class=\"form-control\" data-trigger=\"fileinput\"> <i class=\"glyphicon glyphicon-file fileinput-exists\"></i> <span class=\"fileinput-filename\"></span></div> <span class=\"input-group-addon btn btn-default btn-file\"> <span class=\"fileinput-new\">Select file</span> <span class=\"fileinput-exists\">Change</span>\n",
        "                                <input type=\"file\" name=\"inputDataset\"> </span> <a href=\"#\" class=\"input-group-addon btn btn-default fileinput-exists\" data-dismiss=\"fileinput\">Remove</a> </div>\n",
        "                        </div>\n",
        "                    </div>\n",
        "                    <div class=\"form-group\">\n",
        "                        <label class=\"col-sm-12\">Banyak Fitur</label>\n",
        "                        <div class=\"col-sm-12\">\n",
        "                            <select class=\"form-control\" name=\"banyakFitur\" id=\"banyak_fitur\">\n",
        "                                <option selected>Pilih Banyak Fitur</option>\n",
        "                                <option value=\"2\">2</option>\n",
        "                                <option value=\"3\">3</option>\n",
        "                                <option value=\"4\">4</option>\n",
        "                                <option value=\"5\">5</option>\n",
        "                                <option value=\"6\">6</option>\n",
        "                                <option value=\"7\">7</option>\n",
        "                                <option value=\"8\">8</option>\n",
        "                            </select>\n",
        "                        </div>\n",
        "                    </div>\n",
        "                    <div class=\"form-group\">\n",
        "                        <label class=\"col-sm-12\">Banyak <i>Hidden Neuron</i></label>\n",
        "                        <div class=\"col-sm-12\">\n",
        "                            <select class=\"form-control\" name=\"banyakHiddenNeuron\" id=\"banyak_hidden_neuron\">\n",
        "                                <option selected>Pilih Banyak <i>Hidden Neuron</i></option>\n",
        "                                <option value=\"2\">2</option>\n",
        "                                <option value=\"3\">3</option>\n",
        "                                <option value=\"4\">4</option>\n",
        "                                <option value=\"5\">5</option>\n",
        "                                <option value=\"6\">6</option>\n",
        "                                <option value=\"7\">7</option>\n",
        "                                <option value=\"8\">8</option>\n",
        "                            </select>\n",
        "                        </div>\n",
        "                    </div>\n",
        "                    <button id=\"submit\" class=\"btn btn-block btn-info btn-rounded\">Proses</button>\n",
        "                    </div>\n",
        "                </form>\n",
        "            </div>\n",
        "        </div>\n",
        "    </div>\n",
        "    <div class=\"col-md-3\"></div>\n",
        "    <div class=\"panel panel-info block4\">\n",
        "        <div class=\"panel-heading\"> Detail Hasil Prediksi\n",
        "            <div class=\"pull-right\"><a href=\"#\" data-perform=\"panel-collapse\"><i class=\"ti-minus\"></i></a> <a href=\"#\" data-perform=\"panel-dismiss\"><i class=\"ti-close\"></i></a> </div>\n",
        "        </div>\n",
        "        <div class=\"panel-wrapper collapse in\" aria-expanded=\"true\">\n",
        "            <div class=\"panel-body\">\n",
        "                <div class=\"row\">\n",
        "                    <div class=\"col-md-2\">\n",
        "                        <div class=\"table-responsive\">\n",
        "                            <table class=\"table table-hover\" data-height=\"10\">\n",
        "                                <thead>\n",
        "                                    <tr>\n",
        "                                    <th scope=\"col\">Data ke-</th>\n",
        "                                    <th scope=\"col\">Nilai Aktual</th>\n",
        "                                    </tr>\n",
        "                                </thead>\n",
        "                                <tbody>\n",
        "                                    {% for aktual in y_aktual %}\n",
        "                                        <tr>\n",
        "                                            <th scope=\"row\" >{{ forloop.counter0 }}</th>\n",
        "                                            <td>{{'%0.2f'|format(aktual|float)}}</td>\n",
        "                                        </tr>\n",
        "                                    {% endfor %}\n",
        "                                </tbody>\n",
        "                            </table>\n",
        "                        </div>\n",
        "                    </div>\n",
        "                    <div class=\"col-md-2\">\n",
        "                        <div class=\"table-responsive\">\n",
        "                            <table class=\"table table-hover\" data-height=\"10\">\n",
        "                                <thead>\n",
        "                                    <tr>\n",
        "                                    <th scope=\"col\">Nilai Prediksi</th>\n",
        "                                    </tr>\n",
        "                                </thead>\n",
        "                                <tbody>\n",
        "                                    {% for prediksi in y_prediksi %}\n",
        "                                        <tr>\n",
        "                                            <td>{{'%0.2f'|format(prediksi|float)}}</td>\n",
        "                                        </tr>\n",
        "                                    {% endfor %}\n",
        "                                </tbody>\n",
        "                            </table>\n",
        "                        </div>\n",
        "                    </div>\n",
        "                    <div class=\"col-md-8\">\n",
        "                        <div class=\"form-group\">\n",
        "                            <div class=\"row\">\n",
        "                                <label class=\"col-md-3\" for=\"example-email\"><h2>Nilai MAPE</h2></label>\n",
        "                                <div class=\"col-md-9\">\n",
        "                                    <input value=\"{{mape}}\" type=\"email\" id=\"example-email\" name=\"example-email\" class=\"form-control\" placeholder=\"Nilai MAPE\" readonly>\n",
        "                                </div>\n",
        "                            </div>\n",
        "                        </div>\n",
        "                        <div class=\"table-responsive border tableFixHead\" style=\"height:470px\" id=\"hasilGrafik\"></div>\n",
        "                    </div>\n",
        "                </div>\n",
        "            </div>\n",
        "        </div>\n",
        "    </div>\n",
        "</div>\n",
        "{% endblock content %}"
      ],
      "execution_count": null,
      "outputs": [
        {
          "output_type": "stream",
          "text": [
            "Overwriting ./templates/bigdataApps.html\n"
          ],
          "name": "stdout"
        }
      ]
    },
    {
      "cell_type": "code",
      "metadata": {
        "colab": {
          "base_uri": "https://localhost:8080/"
        },
        "id": "Mm8xYspVesxZ",
        "outputId": "ffb47c7f-4fa7-4c97-8b9d-656edc2eeb20"
      },
      "source": [
        "%%file ./templates/register.html\n",
        "<!DOCTYPE html>\n",
        "<html lang=\"en\">\n",
        "<head>\n",
        "    <meta charset=\"UTF-8\">\n",
        "    <meta name=\"viewport\" content=\"width=device-width, initial-scale=1.0\">\n",
        "    <meta http-equiv=\"X-UA-Compatible\" content=\"ie=edge\">\n",
        "    <link rel=\"stylesheet\" href=\"https://cdnjs.cloudflare.com/ajax/libs/meyer-reset/2.0/reset.min.css\">\n",
        "    <title>Register | Flask</title>\n",
        "    <!-- Latest compiled and minified CSS -->\n",
        "    <link rel=\"stylesheet\" href=\"https://maxcdn.bootstrapcdn.com/bootstrap/3.3.7/css/bootstrap.min.css\" integrity=\"sha384-BVYiiSIFeK1dGmJRAkycuHAHRg32OmUcww7on3RYdg4Va+PmSTsz/K68vbdEjh4u\" crossorigin=\"anonymous\">\n",
        "\n",
        "    <!-- Optional theme -->\n",
        "    <link rel=\"stylesheet\" href=\"https://maxcdn.bootstrapcdn.com/bootstrap/3.3.7/css/bootstrap-theme.min.css\" integrity=\"sha384-rHyoN1iRsVXV4nD0JutlnGaslCJuC7uwjduW9SVrLvRYooPp2bWYgmgJQIXwl/Sp\" crossorigin=\"anonymous\">\n",
        "</head>\n",
        "<body>\n",
        "    <div class=\"container\">\n",
        "        <div class=\"row\" style=\"margin-top: 40px\">\n",
        "            <div class=\"col-sm-6\">\n",
        "                <form method=\"POST\">                    \n",
        "                    <div class=\"form-group\">\n",
        "                      <label for=\"email\">Username (Email) : </label>\n",
        "                      <input type=\"email\" name=\"mail\" class=\"form-control\" id=\"mail\">\n",
        "                    </div>\n",
        "                    <div class=\"form-group\">\n",
        "                      <label for=\"email\">Name : </label>\n",
        "                      <input type=\"text\" name=\"uname\" class=\"form-control\" id=\"uname\">\n",
        "                    </div>\n",
        "                    <div class=\"form-group\">\n",
        "                      <label for=\"email\">Password : </label>\n",
        "                      <input type=\"password\" name=\"passw\" class=\"form-control\" id=\"passw\">\n",
        "                    </div>\n",
        "                    <button type=\"submit\" class=\"btn form-control btn-default\">Register</button>\n",
        "                </form>\n",
        "            </div>\n",
        "        </div>\n",
        "    </div>\n",
        "\n",
        "\n",
        "<!-- Latest compiled and minified JavaScript -->\n",
        "<script src=\"https://maxcdn.bootstrapcdn.com/bootstrap/3.3.7/js/bootstrap.min.js\" integrity=\"sha384-Tc5IQib027qvyjSMfHjOMaLkfuWVxZxUPnCJA7l2mCWNIpG9mGCD8wGNIcPD7Txa\" crossorigin=\"anonymous\"></script>\n",
        "</body>\n",
        "</html>"
      ],
      "execution_count": null,
      "outputs": [
        {
          "output_type": "stream",
          "text": [
            "Overwriting ./templates/register.html\n"
          ],
          "name": "stdout"
        }
      ]
    },
    {
      "cell_type": "code",
      "metadata": {
        "colab": {
          "base_uri": "https://localhost:8080/"
        },
        "id": "K33wdNMZE3Hv",
        "outputId": "905d8d11-c796-477e-d3ac-7c86d24f2527"
      },
      "source": [
        "%%file ./templates/login.html\n",
        "<!DOCTYPE html>\n",
        "<html lang=\"en\">\n",
        "<head>\n",
        "    <meta charset=\"UTF-8\">\n",
        "    <meta name=\"viewport\" content=\"width=device-width, initial-scale=1.0\">\n",
        "    <meta http-equiv=\"X-UA-Compatible\" content=\"ie=edge\">\n",
        "    <link rel=\"stylesheet\" href=\"https://cdnjs.cloudflare.com/ajax/libs/meyer-reset/2.0/reset.min.css\">\n",
        "    <title>Login | Flask</title>\n",
        "    <!-- Latest compiled and minified CSS -->\n",
        "    <link rel=\"stylesheet\" href=\"https://maxcdn.bootstrapcdn.com/bootstrap/3.3.7/css/bootstrap.min.css\" integrity=\"sha384-BVYiiSIFeK1dGmJRAkycuHAHRg32OmUcww7on3RYdg4Va+PmSTsz/K68vbdEjh4u\" crossorigin=\"anonymous\">\n",
        "\n",
        "    <!-- Optional theme -->\n",
        "    <link rel=\"stylesheet\" href=\"https://maxcdn.bootstrapcdn.com/bootstrap/3.3.7/css/bootstrap-theme.min.css\" integrity=\"sha384-rHyoN1iRsVXV4nD0JutlnGaslCJuC7uwjduW9SVrLvRYooPp2bWYgmgJQIXwl/Sp\" crossorigin=\"anonymous\">\n",
        "</head>\n",
        "<body>\n",
        "    <div class=\"container\">\n",
        "        <div class=\"white-box\" style=\"margin-top: 60px\">\n",
        "            <div class=\"col-sm-6\">\n",
        "                <form method=\"POST\">\n",
        "                    <div class=\"form-group\">\n",
        "                      <label for=\"email\">Username (Email) : </label>\n",
        "                      <input type=\"text\" name=\"mail\" class=\"form-control\" id=\"mail\">\n",
        "                    </div>\n",
        "                    <div class=\"form-group\">\n",
        "                      <label for=\"email\">Password : </label>\n",
        "                      <input type=\"password\" name=\"passw\" class=\"form-control\" id=\"passw\">\n",
        "                    </div>\n",
        "                    <button type=\"submit\" class=\"btn form-control btn-default\">Login</button>\n",
        "                </form>\n",
        "            </div>\n",
        "        </div>\n",
        "    </div>\n",
        "\n",
        "\n",
        "<!-- Latest compiled and minified JavaScript -->\n",
        "<script src=\"https://maxcdn.bootstrapcdn.com/bootstrap/3.3.7/js/bootstrap.min.js\" integrity=\"sha384-Tc5IQib027qvyjSMfHjOMaLkfuWVxZxUPnCJA7l2mCWNIpG9mGCD8wGNIcPD7Txa\" crossorigin=\"anonymous\"></script>\n",
        "</body>\n",
        "</html>"
      ],
      "execution_count": null,
      "outputs": [
        {
          "output_type": "stream",
          "text": [
            "Overwriting ./templates/login.html\n"
          ],
          "name": "stdout"
        }
      ]
    },
    {
      "cell_type": "code",
      "metadata": {
        "colab": {
          "base_uri": "https://localhost:8080/"
        },
        "id": "wEgMUKxpE26g",
        "outputId": "c132f540-7c5c-4333-e5c6-b009ed12895b"
      },
      "source": [
        "%%file ./templates/index.html\n",
        "<!DOCTYPE html>\n",
        "<html lang=\"en\">\n",
        "<head>\n",
        "    <meta charset=\"UTF-8\">\n",
        "    <meta name=\"viewport\" content=\"width=device-width, initial-scale=1.0\">\n",
        "    <meta http-equiv=\"X-UA-Compatible\" content=\"ie=edge\">\n",
        "    <link rel=\"stylesheet\" href=\"https://cdnjs.cloudflare.com/ajax/libs/meyer-reset/2.0/reset.min.css\">\n",
        "    <title>Login - Register Form | Flask</title>\n",
        "    <!-- Latest compiled and minified CSS -->\n",
        "    <link rel=\"stylesheet\" href=\"https://maxcdn.bootstrapcdn.com/bootstrap/3.3.7/css/bootstrap.min.css\" integrity=\"sha384-BVYiiSIFeK1dGmJRAkycuHAHRg32OmUcww7on3RYdg4Va+PmSTsz/K68vbdEjh4u\" crossorigin=\"anonymous\">\n",
        "    <link rel=\"stylesheet\" type=\"text/css\" href=\"static/css/style.css\">\n",
        "    <!-- Optional theme -->\n",
        "    <link rel=\"stylesheet\" href=\"https://maxcdn.bootstrapcdn.com/bootstrap/3.3.7/css/bootstrap-theme.min.css\" integrity=\"sha384-rHyoN1iRsVXV4nD0JutlnGaslCJuC7uwjduW9SVrLvRYooPp2bWYgmgJQIXwl/Sp\" crossorigin=\"anonymous\">\n",
        "</head>\n",
        "<body>\n",
        "    <h1 align=\"center\" style=\"color: white; margin-top: 100px\"> BIG DATA USING PYTHON \n",
        "    <div class=\"container\" style=\"border: 3px solid #FB4F84; width:500px\">\n",
        "        <div class=\"row\" style=\"margin-top: 50px\">\n",
        "            <div class=\"col-sm-6\">\n",
        "                <ul>\n",
        "                    <li class=\"col-sm-6\"><a href=\"/login\" class=\"btn form-control btn-success\">Login</a></li>\n",
        "                    <li class=\"col-sm-6\"><a href=\"/register\" class=\"btn form-control btn-primary\">Sign up</a></li>\n",
        "                </ul>\n",
        "            </div>\n",
        "        </div>\n",
        "    </div>\n",
        "\n",
        "\n",
        "<!-- Latest compiled and minified JavaScript -->\n",
        "<script src=\"https://maxcdn.bootstrapcdn.com/bootstrap/3.3.7/js/bootstrap.min.js\" integrity=\"sha384-Tc5IQib027qvyjSMfHjOMaLkfuWVxZxUPnCJA7l2mCWNIpG9mGCD8wGNIcPD7Txa\" crossorigin=\"anonymous\"></script>\n",
        "</body>\n",
        "</html>"
      ],
      "execution_count": null,
      "outputs": [
        {
          "output_type": "stream",
          "text": [
            "Overwriting ./templates/index.html\n"
          ],
          "name": "stdout"
        }
      ]
    },
    {
      "cell_type": "code",
      "metadata": {
        "id": "W9m9jUtMBDPP"
      },
      "source": [
        "from flask import Flask\n",
        "import threading\n",
        "\n",
        "app = Flask(__name__)\n",
        "\n",
        "@app.route(\"/\")\n",
        "def hello():\n",
        "    return \"Hello World!\"\n",
        "\n",
        "threading.Thread(target=app.run, kwargs={'host':'0.0.0.0','port':6060}).start()"
      ],
      "execution_count": null,
      "outputs": []
    },
    {
      "cell_type": "code",
      "metadata": {
        "colab": {
          "base_uri": "https://localhost:8080/",
          "height": 421
        },
        "id": "yPZjUmajBDKf",
        "outputId": "952209f1-baaa-4f9a-ba85-5c0f91542d68"
      },
      "source": [
        "import IPython.display\n",
        "\n",
        "def display(port, height):\n",
        "    shell = \"\"\"\n",
        "        (async () => {\n",
        "            const url = await google.colab.kernel.proxyPort(%PORT%, {\"cache\": true});\n",
        "            const iframe = document.createElement('iframe');\n",
        "            iframe.src = url;\n",
        "            iframe.setAttribute('width', '100%');\n",
        "            iframe.setAttribute('height', '%HEIGHT%');\n",
        "            iframe.setAttribute('frameborder', 0);\n",
        "            document.body.appendChild(iframe);\n",
        "        })();\n",
        "    \"\"\"\n",
        "    replacements = [\n",
        "        (\"%PORT%\", \"%d\" % port),\n",
        "        (\"%HEIGHT%\", \"%d\" % height),\n",
        "    ]\n",
        "    for (k, v) in replacements:\n",
        "        shell = shell.replace(k, v)\n",
        "\n",
        "    script = IPython.display.Javascript(shell)\n",
        "    IPython.display.display(script)\n",
        "\n",
        "display(6060, 400)"
      ],
      "execution_count": null,
      "outputs": [
        {
          "output_type": "display_data",
          "data": {
            "application/javascript": [
              "\n",
              "        (async () => {\n",
              "            const url = await google.colab.kernel.proxyPort(6060, {\"cache\": true});\n",
              "            const iframe = document.createElement('iframe');\n",
              "            iframe.src = url;\n",
              "            iframe.setAttribute('width', '100%');\n",
              "            iframe.setAttribute('height', '400');\n",
              "            iframe.setAttribute('frameborder', 0);\n",
              "            document.body.appendChild(iframe);\n",
              "        })();\n",
              "    "
            ],
            "text/plain": [
              "<IPython.core.display.Javascript object>"
            ]
          },
          "metadata": {
            "tags": []
          }
        }
      ]
    },
    {
      "cell_type": "code",
      "metadata": {
        "id": "oCtN4Nz9Ej_R"
      },
      "source": [
        ""
      ],
      "execution_count": null,
      "outputs": []
    },
    {
      "cell_type": "code",
      "metadata": {
        "id": "WFTQDiCfEj7P"
      },
      "source": [
        ""
      ],
      "execution_count": null,
      "outputs": []
    },
    {
      "cell_type": "code",
      "metadata": {
        "colab": {
          "base_uri": "https://localhost:8080/"
        },
        "id": "r9STF4XePVS1",
        "outputId": "e51b1ee2-be78-40b4-82dd-551f1ba1bfe3"
      },
      "source": [
        "#@title Operasi 2 nilai, Misal dengan Pilihan checkbox\n",
        "\n",
        "#@markdown Masukkan nilai pertama\n",
        "value1 =  2#@param{type:\"number\"}\n",
        "\n",
        "#@markdown Masukkan nilai kedua\n",
        "value2 = 10 #@param{type:\"number\"}\n",
        "\n",
        "#@markdown Aktifkan penjumlahan\n",
        "flagtambah = True #@param{type:\"boolean\"}\n",
        "\n",
        "#@markdown Aktifkan perkalian\n",
        "flagkali = False #@param{type:\"boolean\"}\n",
        "\n",
        "if(flagtambah):\n",
        "  print('Hasil + = ', value1 + value2)\n",
        "if(flagkali):\n",
        "  print('Hasil x = ', value1 * value2)"
      ],
      "execution_count": null,
      "outputs": [
        {
          "output_type": "stream",
          "text": [
            "Hasil + =  12\n"
          ],
          "name": "stdout"
        }
      ]
    },
    {
      "cell_type": "code",
      "metadata": {
        "cellView": "form",
        "colab": {
          "base_uri": "https://localhost:8080/"
        },
        "id": "TsPoG7BQlQtR",
        "outputId": "552e14a6-04c7-47bb-d4a0-77bd4c63975e"
      },
      "source": [
        "#@title Generator Deret Fibonacci\n",
        "\n",
        "# Generator: objek iterator di-instansiasi terlebih dahulu;\n",
        "# Iterator: selanjutnya, Python memanggil metode __iter__ untuk mendapatkan akses ke iterator yang sebenarnya dalam class;\n",
        "# metode __next__ dipanggil 6 kali, dan pada iterasi ke-6 iterasinya dihentikan (Closures). \n",
        "\n",
        "class Fib:\n",
        "  def __init__(self, nn):\n",
        "    print(\"__init__\")\n",
        "    self.__n = nn\n",
        "    self.__i = 0\n",
        "    self.__p1 = self.__p2 = 1\n",
        "  def __iter__(self):\n",
        "    print(\"__iter__\")\n",
        "    return self\n",
        "  def __next__(self):\n",
        "    print(\"__next__\")\n",
        "    self.__i += 1\n",
        "    if self.__i > self.__n:\n",
        "      raise StopIteration\n",
        "    if self.__i in [1, 2]:\n",
        "      return 1\n",
        "    ret = self.__p1 + self.__p2\n",
        "    self.__p1, self.__p2 = self.__p2, ret\n",
        "    return ret\n",
        "\n",
        "#@markdown Masukkan Banyak Suku\n",
        "bykSuku =  3#@param{type:\"number\"}\n",
        "\n",
        "for i in Fib(bykSuku):\n",
        "  print(i)"
      ],
      "execution_count": null,
      "outputs": [
        {
          "output_type": "stream",
          "text": [
            "__init__\n",
            "__iter__\n",
            "__next__\n",
            "1\n",
            "__next__\n",
            "1\n",
            "__next__\n",
            "2\n",
            "__next__\n"
          ],
          "name": "stdout"
        }
      ]
    },
    {
      "cell_type": "code",
      "metadata": {
        "colab": {
          "base_uri": "https://localhost:8080/"
        },
        "id": "6XRFaHld-6bB",
        "outputId": "2526c6d3-8ce0-43cb-b8a8-342c82fd5c70"
      },
      "source": [
        "class Fib:\n",
        "    def __init__(self, nn):\n",
        "        self.__n = nn\n",
        "        self.__i = 0\n",
        "        self.__p1 = self.__p2 = 1\n",
        "\n",
        "    def __iter__(self):\n",
        "        print(\"Fib iter\")\n",
        "        return self\n",
        "\n",
        "    def __next__(self):\n",
        "        self.__i += 1\n",
        "        if self.__i > self.__n:\n",
        "            raise StopIteration\n",
        "        if self.__i in [1, 2]:\n",
        "            return 1\n",
        "        ret = self.__p1 + self.__p2\n",
        "        self.__p1, self.__p2 = self.__p2, ret\n",
        "        return ret\n",
        "\n",
        "class Class:\n",
        "    def __init__(self, n):\n",
        "        self.__iter = Fib(n)\n",
        "\n",
        "    def __iter__(self):\n",
        "        print(\"Class iter\")\n",
        "        return self.__iter;\n",
        "\n",
        "\n",
        "object = Class(5)\n",
        "\n",
        "for i in object:\n",
        "    print(i)"
      ],
      "execution_count": null,
      "outputs": [
        {
          "output_type": "stream",
          "text": [
            "Class iter\n",
            "1\n",
            "1\n",
            "2\n",
            "3\n",
            "5\n"
          ],
          "name": "stdout"
        }
      ]
    },
    {
      "cell_type": "code",
      "metadata": {
        "colab": {
          "base_uri": "https://localhost:8080/"
        },
        "id": "30cI8yxmlR5I",
        "outputId": "378cb813-5728-4f43-9c55-faff53fbc9e2"
      },
      "source": [
        "# Modif dari class Fib\n",
        "class Factorial:\n",
        "  def __init__(self, nn):\n",
        "    print(\"__init__\")\n",
        "    self.__n = nn # instance attribute bersifat private\n",
        "    self.__i = 0\n",
        "    self.__p1 = 1\n",
        "\n",
        "    # coba tambahkan\n",
        "    self.n__ = nn # instance attribute bersifat public\n",
        "    self._n = nn # instance attribute bersifat public\n",
        "  def __iter__(self):\n",
        "    print(\"__iter__\")\n",
        "    return self\n",
        "\n",
        "  def __next__(self):\n",
        "    print(\"__next__\")\n",
        "    self.__i += 1\n",
        "    self.ii = self.__i\n",
        "    if self.__i > self.__n:\n",
        "      raise StopIteration\n",
        "    \n",
        "    # 0! || 1! = 1\n",
        "    if self.__i in [0,1]:\n",
        "      return 1\n",
        "\n",
        "    # local \n",
        "    ret = self.__p1 * self.__i\n",
        "    self.__p1 = ret\n",
        "    return ret\n",
        "\n",
        "# membuat Objek dari kelas Factorial\n",
        "instance_fact = Factorial(5)\n",
        "# print(instance_fact.__n) #Error\n",
        "print(instance_fact.n__)\n",
        "# print(instance_fact._n)\n",
        "\n",
        "# rule\n",
        "# 0! || 1! = 1\n",
        "# 2! = 1! x 2\n",
        "# 3! = 2! x 3\n",
        "# 4! = 3! x 4\n",
        "\n",
        "for i in instance_fact:\n",
        "  print(instance_fact.ii, i)\n",
        "  # print(instance_fact.i, i)\n",
        "  # print(instance_fact.ret) #Error\n",
        "  # print(i)"
      ],
      "execution_count": null,
      "outputs": [
        {
          "output_type": "stream",
          "text": [
            "__init__\n",
            "5\n",
            "__iter__\n",
            "__next__\n",
            "1 1\n",
            "__next__\n",
            "2 2\n",
            "__next__\n",
            "3 6\n",
            "__next__\n",
            "4 24\n",
            "__next__\n",
            "5 120\n",
            "__next__\n"
          ],
          "name": "stdout"
        }
      ]
    },
    {
      "cell_type": "markdown",
      "metadata": {
        "id": "xpwru-XQ8AA8"
      },
      "source": [
        "## a. Buatlah program untuk membuat deret Aritmatika (1,3,5,7,9,..) dan deret Geometri (2,4,8,16,.. ) berdasarkan contoh kode dari class Fib atau class Factorial!"
      ]
    },
    {
      "cell_type": "markdown",
      "metadata": {
        "id": "0V0eim-wq0NW"
      },
      "source": [
        "## b. Buatlah program untuk hitung Un dan Sn berdasarkan deret Fibonacci dengan rumus berikut:\n",
        "\n",
        "![]( https://docs.google.com/uc?export=download&id=1hz7jtWpOFqSasnAYowOO0y8z_9mTepSQ)\n",
        "\n",
        "link artikel: https://jitecs.ub.ac.id/index.php/jitecs/article/view/2/5"
      ]
    },
    {
      "cell_type": "code",
      "metadata": {
        "colab": {
          "base_uri": "https://localhost:8080/"
        },
        "id": "fu5F32OYlX2W",
        "outputId": "094b9efb-f4c0-4f20-f7fb-7c29392f71c8"
      },
      "source": [
        "#The yield statement (dpt digunakan sebagai generator) vs return (tdk dpt digunakan sebagai generator)\n",
        "def fun(n):\n",
        "    for i in range(n):\n",
        "        return i\n",
        "\n",
        "print(fun(3))\n",
        "# for v in range(fun(3)):\n",
        "#   print(v)\n",
        "\n",
        "print(\"-\"*15)\n",
        "\n",
        "def fun2(n):\n",
        "    for i in range(n):\n",
        "        yield i\n",
        "for v in fun2(5):\n",
        "  print(v)"
      ],
      "execution_count": null,
      "outputs": [
        {
          "output_type": "stream",
          "text": [
            "0\n",
            "---------------\n",
            "0\n",
            "1\n",
            "2\n",
            "3\n",
            "4\n"
          ],
          "name": "stdout"
        }
      ]
    },
    {
      "cell_type": "code",
      "metadata": {
        "colab": {
          "base_uri": "https://localhost:8080/"
        },
        "id": "NM7BRaMZtn1P",
        "outputId": "de04cd5a-8f74-4ffb-e983-a0c71144e395"
      },
      "source": [
        "def powers_of_2(n):\n",
        "    power = 1\n",
        "    for i in range(n):\n",
        "        yield power\n",
        "        power *= 2\n",
        "\n",
        "\n",
        "for v in powers_of_2(5):\n",
        "    print(v)"
      ],
      "execution_count": null,
      "outputs": [
        {
          "output_type": "stream",
          "text": [
            "1\n",
            "2\n",
            "4\n",
            "8\n",
            "16\n"
          ],
          "name": "stdout"
        }
      ]
    },
    {
      "cell_type": "code",
      "metadata": {
        "colab": {
          "base_uri": "https://localhost:8080/"
        },
        "id": "O6TsogAhDy5J",
        "outputId": "0ecc2905-fe2c-4317-e2f2-be1eedcc9c6b"
      },
      "source": [
        "def powers_of_2(n):\n",
        "    power = 1\n",
        "    for i in range(n):\n",
        "        yield power\n",
        "        power *= 2\n",
        "\n",
        "# List comprehensions\n",
        "t = [x for x in powers_of_2(5)]\n",
        "print(t)"
      ],
      "execution_count": null,
      "outputs": [
        {
          "output_type": "stream",
          "text": [
            "[1, 2, 4, 8, 16]\n"
          ],
          "name": "stdout"
        }
      ]
    },
    {
      "cell_type": "code",
      "metadata": {
        "colab": {
          "base_uri": "https://localhost:8080/"
        },
        "id": "dpBskgULDyyV",
        "outputId": "1dbee324-c37f-4156-cc62-abba6cdf32c9"
      },
      "source": [
        "def powers_of_2(n):\n",
        "    power = 1\n",
        "    for i in range(n):\n",
        "        yield power\n",
        "        power *= 2\n",
        "\n",
        "# The list() function\n",
        "t = list(powers_of_2(3))\n",
        "print(t)"
      ],
      "execution_count": null,
      "outputs": [
        {
          "output_type": "stream",
          "text": [
            "[1, 2, 4]\n"
          ],
          "name": "stdout"
        }
      ]
    },
    {
      "cell_type": "code",
      "metadata": {
        "colab": {
          "base_uri": "https://localhost:8080/"
        },
        "id": "FSjY9Ry6FQLf",
        "outputId": "2d665e82-eefe-472e-8d0a-ce2d05b2ec6f"
      },
      "source": [
        "def powers_of_2(n):\n",
        "    power = 1\n",
        "    for i in range(n):\n",
        "        yield power\n",
        "        power *= 2\n",
        "\n",
        "# The in operator\n",
        "for i in range(20):\n",
        "    if i in powers_of_2(4):\n",
        "        print(i)"
      ],
      "execution_count": null,
      "outputs": [
        {
          "output_type": "stream",
          "text": [
            "1\n",
            "2\n",
            "4\n",
            "8\n"
          ],
          "name": "stdout"
        }
      ]
    },
    {
      "cell_type": "code",
      "metadata": {
        "colab": {
          "base_uri": "https://localhost:8080/"
        },
        "id": "ov3B5JAiE7TG",
        "outputId": "c96e7b4d-08d3-4fd8-8284-7ce1f6fab5dd"
      },
      "source": [
        "def fibonacci(n):\n",
        "    p = pp = 1\n",
        "    for i in range(n):\n",
        "        if i in [0, 1]:\n",
        "            yield 1\n",
        "        else:\n",
        "            n = p + pp\n",
        "            pp, p = p, n\n",
        "            yield n\n",
        "\n",
        "fibs = list(fibonacci(10))\n",
        "print(fibs)"
      ],
      "execution_count": null,
      "outputs": [
        {
          "output_type": "stream",
          "text": [
            "[1, 1, 2, 3, 5, 8, 13, 21, 34, 55]\n"
          ],
          "name": "stdout"
        }
      ]
    },
    {
      "cell_type": "code",
      "metadata": {
        "colab": {
          "base_uri": "https://localhost:8080/"
        },
        "id": "FTybruX0E7Lc",
        "outputId": "412de1b7-5b47-44a3-fe30-88e1fc93befc"
      },
      "source": [
        "# More about list comprehensions\n",
        "# list comprehension - a simple and very impressive way of creating lists and their contents.\n",
        "list_1 = []\n",
        "\n",
        "for ex in range(6):\n",
        "    list_1.append(10 ** ex)\n",
        "\n",
        "list_2 = [10 ** ex for ex in range(6)]\n",
        "\n",
        "print(list_1)\n",
        "print(list_2)"
      ],
      "execution_count": null,
      "outputs": [
        {
          "output_type": "stream",
          "text": [
            "[1, 10, 100, 1000, 10000, 100000]\n",
            "[1, 10, 100, 1000, 10000, 100000]\n"
          ],
          "name": "stdout"
        }
      ]
    },
    {
      "cell_type": "code",
      "metadata": {
        "colab": {
          "base_uri": "https://localhost:8080/"
        },
        "id": "ZxJD84hjFuCJ",
        "outputId": "5157fbfb-52f1-46b3-bf55-7545d4d9ee61"
      },
      "source": [
        "the_list = []\n",
        "\n",
        "for x in range(10):\n",
        "    the_list.append(1 if x % 2 == 0 else 0)\n",
        "\n",
        "print(the_list)"
      ],
      "execution_count": null,
      "outputs": [
        {
          "output_type": "stream",
          "text": [
            "[1, 0, 1, 0, 1, 0, 1, 0, 1, 0]\n"
          ],
          "name": "stdout"
        }
      ]
    },
    {
      "cell_type": "code",
      "metadata": {
        "colab": {
          "base_uri": "https://localhost:8080/"
        },
        "id": "yQ1Z8URhFt2v",
        "outputId": "baf5db54-7f30-45f9-d70e-b8f6931296cf"
      },
      "source": [
        "# The brackets make a comprehension, the parentheses make a generator.\n",
        "the_list = [1 if x % 2 == 0 else 0 for x in range(10)]\n",
        "the_generator = (1 if x % 2 == 0 else 0 for x in range(10))\n",
        "\n",
        "for v in the_list:\n",
        "    print(v, end=\" \")\n",
        "print()\n",
        "\n",
        "for v in the_generator:\n",
        "    print(v, end=\" \")\n",
        "print()\n",
        "\n",
        "# len(the_list) will evaluate to 10. Clear and predictable. \n",
        "# len(the_generator) will raise an exception, and you will see the following message:"
      ],
      "execution_count": null,
      "outputs": [
        {
          "output_type": "stream",
          "text": [
            "1 0 1 0 1 0 1 0 1 0 \n",
            "1 0 1 0 1 0 1 0 1 0 \n"
          ],
          "name": "stdout"
        }
      ]
    },
    {
      "cell_type": "code",
      "metadata": {
        "colab": {
          "base_uri": "https://localhost:8080/"
        },
        "id": "n0g7TxCpFtuk",
        "outputId": "3c2ddf58-090a-4523-e1f7-6cc0484e77e7"
      },
      "source": [
        "# The lambda function\n",
        "# is a function without a name (you can also call it an anonymous function)\n",
        "two = lambda: 2\n",
        "sqr = lambda x: x * x\n",
        "pwr = lambda x, y: x ** y\n",
        "\n",
        "for a in range(-2, 3):\n",
        "    print(sqr(a), end=\" \")\n",
        "    print(pwr(a, two()))"
      ],
      "execution_count": null,
      "outputs": [
        {
          "output_type": "stream",
          "text": [
            "4 4\n",
            "1 1\n",
            "0 0\n",
            "1 1\n",
            "4 4\n"
          ],
          "name": "stdout"
        }
      ]
    },
    {
      "cell_type": "code",
      "metadata": {
        "colab": {
          "base_uri": "https://localhost:8080/"
        },
        "id": "hjISi0XQFtsP",
        "outputId": "d38560f3-1d3b-4e5e-c141-d36681b46f79"
      },
      "source": [
        "# f(x) = 2x^2 - 4x + 2\n",
        "f = lambda x: 2*x**2 - 4*x + 2\n",
        "print(f(0))"
      ],
      "execution_count": null,
      "outputs": [
        {
          "output_type": "stream",
          "text": [
            "2\n"
          ],
          "name": "stdout"
        }
      ]
    },
    {
      "cell_type": "code",
      "metadata": {
        "colab": {
          "base_uri": "https://localhost:8080/"
        },
        "id": "9JgORlzIE7Es",
        "outputId": "8615b715-e623-4975-d7c2-b2afb5310e5a"
      },
      "source": [
        "def print_function(args, a):\n",
        "    for x in args:\n",
        "        print('f(', x,')=', a(x), sep='')\n",
        "\n",
        "\n",
        "def poly(x):\n",
        "    return 2 * x**2 - 4 * x + 2\n",
        "\n",
        "\n",
        "print_function([x for x in range(-2, 3)], poly)"
      ],
      "execution_count": null,
      "outputs": [
        {
          "output_type": "stream",
          "text": [
            "f(-2)=18\n",
            "f(-1)=8\n",
            "f(0)=2\n",
            "f(1)=0\n",
            "f(2)=2\n"
          ],
          "name": "stdout"
        }
      ]
    },
    {
      "cell_type": "code",
      "metadata": {
        "colab": {
          "base_uri": "https://localhost:8080/"
        },
        "id": "Yo8G3xs0Hfxx",
        "outputId": "0de23d5c-0d24-4de5-b563-3deb4490456f"
      },
      "source": [
        "# Lambdas and the map() function\n",
        "# map(function, list)\n",
        "list_1 = [x for x in range(5)]\n",
        "# list_2 = list(map(lambda x: 2 ** x, list_1))\n",
        "list_2 = list(map(lambda x: x ** 2, list_1))\n",
        "print(list_2)\n",
        "\n",
        "for x in map(lambda x: x * x, list_2):\n",
        "    print(x, end=' ')\n",
        "print()"
      ],
      "execution_count": null,
      "outputs": [
        {
          "output_type": "stream",
          "text": [
            "[0, 1, 4, 9, 16]\n",
            "0 1 16 81 256 \n"
          ],
          "name": "stdout"
        }
      ]
    },
    {
      "cell_type": "code",
      "metadata": {
        "colab": {
          "base_uri": "https://localhost:8080/"
        },
        "id": "FgeTFTMHHfpz",
        "outputId": "a39ae4f1-44d2-40b1-b4d2-c2a05f5421ac"
      },
      "source": [
        "# Lambdas and the filter() function\n",
        "from random import seed, randint\n",
        "\n",
        "seed()\n",
        "data = [randint(-10,10) for x in range(5)]\n",
        "filtered = list(filter(lambda x: x > 0 and x % 2 == 0, data))\n",
        "\n",
        "print(data)\n",
        "print(filtered)\n"
      ],
      "execution_count": null,
      "outputs": [
        {
          "output_type": "stream",
          "text": [
            "[-9, 10, -10, 10, -5]\n",
            "[10, 10]\n"
          ],
          "name": "stdout"
        }
      ]
    },
    {
      "cell_type": "code",
      "metadata": {
        "colab": {
          "base_uri": "https://localhost:8080/"
        },
        "id": "qfri0kMqHfet",
        "outputId": "8f6b1601-a4a3-41ad-b15b-6e950f197793"
      },
      "source": [
        "# Tentang closures\n",
        "def outer(par):\n",
        "    loc = par\n",
        "\n",
        "    def inner():\n",
        "        return loc\n",
        "    return inner\n",
        "\n",
        "\n",
        "var = 1\n",
        "fun = outer(var)\n",
        "print(fun())"
      ],
      "execution_count": null,
      "outputs": [
        {
          "output_type": "stream",
          "text": [
            "1\n"
          ],
          "name": "stdout"
        }
      ]
    },
    {
      "cell_type": "code",
      "metadata": {
        "colab": {
          "base_uri": "https://localhost:8080/"
        },
        "id": "HkCN7IIXMHxJ",
        "outputId": "a53f4997-6da7-4ee8-8957-d14527b58b83"
      },
      "source": [
        "def make_closure(par):\n",
        "    loc = par\n",
        "\n",
        "    def power(p):\n",
        "        return p ** loc\n",
        "    return power\n",
        "\n",
        "\n",
        "fsqr = make_closure(2)\n",
        "fcub = make_closure(3)\n",
        "\n",
        "for i in range(5):\n",
        "    print(i, fsqr(i), fcub(i))"
      ],
      "execution_count": null,
      "outputs": [
        {
          "output_type": "stream",
          "text": [
            "0 0 0\n",
            "1 1 1\n",
            "2 4 8\n",
            "3 9 27\n",
            "4 16 64\n"
          ],
          "name": "stdout"
        }
      ]
    },
    {
      "cell_type": "code",
      "metadata": {
        "colab": {
          "base_uri": "https://localhost:8080/"
        },
        "id": "yCvLG__pMHtn",
        "outputId": "c06e7a0f-4a7c-4a1f-e3e9-6fde7667f682"
      },
      "source": [
        "short_list = [1, \"Python\", -1, \"Monty\"]\n",
        "new_list = list(filter(lambda s: isinstance(s, str), short_list))\n",
        "print(new_list)"
      ],
      "execution_count": null,
      "outputs": [
        {
          "output_type": "stream",
          "text": [
            "['Python', 'Monty']\n"
          ],
          "name": "stdout"
        }
      ]
    },
    {
      "cell_type": "code",
      "metadata": {
        "colab": {
          "base_uri": "https://localhost:8080/"
        },
        "id": "segmaafbMHpU",
        "outputId": "254e355f-8092-4503-e998-fc04dde7d119"
      },
      "source": [
        "any_list = [1, 2, 3, 4]\n",
        "# \"|\" => OR Bitwise\n",
        "even_list = list(map(lambda x:x | 1, any_list))\n",
        "print(even_list)"
      ],
      "execution_count": null,
      "outputs": [
        {
          "output_type": "stream",
          "text": [
            "[1, 3, 3, 5]\n"
          ],
          "name": "stdout"
        }
      ]
    },
    {
      "cell_type": "markdown",
      "metadata": {
        "id": "bublauZqRy8r"
      },
      "source": [
        "## Accessing files from Python code"
      ]
    },
    {
      "cell_type": "markdown",
      "metadata": {
        "id": "jSEVT7gnUIVG"
      },
      "source": [
        "![]( https://docs.google.com/uc?export=download&id=1bSsd7OecVgr9-GRmL_XPu7ry_gj-FnJT)\n"
      ]
    },
    {
      "cell_type": "code",
      "metadata": {
        "colab": {
          "base_uri": "https://localhost:8080/"
        },
        "id": "8MIeMGURR70r",
        "outputId": "157f716d-0fd8-4a3e-c3f0-d604b2c56182"
      },
      "source": [
        "%%file teks.txt\n",
        "Dari permasalahan tersebut kami membuat framework Big Data App untuk membuat pengguna akhir (end user), \n",
        "khususnya pengembang untuk memudahkan dalam membangun suatu aplikasi Big Data,\n",
        "yaitu dengan mengintegrasikan frontend menggunakan Web App dari framework Django dan Mobile App Native"
      ],
      "execution_count": null,
      "outputs": [
        {
          "output_type": "stream",
          "text": [
            "Writing teks.txt\n"
          ],
          "name": "stdout"
        }
      ]
    },
    {
      "cell_type": "code",
      "metadata": {
        "colab": {
          "base_uri": "https://localhost:8080/"
        },
        "id": "IccdiiV2R7s0",
        "outputId": "af64a3be-51c6-4392-8a44-71017b0af7d9"
      },
      "source": [
        "!cat teks.txt"
      ],
      "execution_count": null,
      "outputs": [
        {
          "output_type": "stream",
          "text": [
            "Dari permasalahan tersebut kami membuat framework Big Data App untuk membuat pengguna akhir (end user), \n",
            "khususnya pengembang untuk memudahkan dalam membangun suatu aplikasi Big Data,\n",
            "yaitu dengan mengintegrasikan frontend menggunakan Web App dari framework Django dan Mobile App Native"
          ],
          "name": "stdout"
        }
      ]
    },
    {
      "cell_type": "code",
      "metadata": {
        "id": "SXcT04aGR7ji"
      },
      "source": [
        "import random\n",
        "\n",
        "f = open(\"Daftar_Nilai_Random.txt\",\"wt\") # w or wt\n",
        "for i in range(100):\n",
        "    f.write(str(random.randint(0,100))+\" \")\n",
        "    \n",
        "f.close()"
      ],
      "execution_count": null,
      "outputs": []
    },
    {
      "cell_type": "code",
      "metadata": {
        "colab": {
          "base_uri": "https://localhost:8080/"
        },
        "id": "aIM13dgISSfp",
        "outputId": "75e55679-5757-4c3b-bd72-c5c8c29d1b7b"
      },
      "source": [
        "!ls *.txt -l -a --block-size=K"
      ],
      "execution_count": null,
      "outputs": [
        {
          "output_type": "stream",
          "text": [
            "-rw-r--r-- 1 root root 1K Aug  1 15:15 Daftar_Nilai_Random.txt\n",
            "-rw-r--r-- 1 root root 1K Aug  1 15:14 teks.txt\n"
          ],
          "name": "stdout"
        }
      ]
    },
    {
      "cell_type": "code",
      "metadata": {
        "colab": {
          "base_uri": "https://localhost:8080/"
        },
        "id": "nrQJ2axpSScN",
        "outputId": "257731ae-d2cb-4641-cf72-fbc68fdc2ff7"
      },
      "source": [
        "stream = open(\"Daftar_Nilai_Random.txt\", \"rt\") \n",
        "print(stream.read(), end=\"\\n\\n\") \n",
        "\n",
        "stream = open(\"teks.txt\", \"rt\") \n",
        "print(stream.read()) "
      ],
      "execution_count": null,
      "outputs": [
        {
          "output_type": "stream",
          "text": [
            "15 92 58 12 37 74 5 48 90 81 57 37 19 12 92 16 20 86 97 30 77 72 100 38 50 57 52 17 75 13 37 74 63 13 0 29 34 36 60 80 33 32 94 93 90 63 69 65 55 60 36 62 68 77 83 74 25 52 63 57 61 9 37 89 57 83 55 4 64 66 12 70 87 46 31 14 68 27 5 24 89 22 66 28 73 97 94 16 23 44 29 55 82 43 1 45 64 83 49 19 \n",
            "\n",
            "Dari permasalahan tersebut kami membuat framework Big Data App untuk membuat pengguna akhir (end user), \n",
            "khususnya pengembang untuk memudahkan dalam membangun suatu aplikasi Big Data,\n",
            "yaitu dengan mengintegrasikan frontend menggunakan Web App dari framework Django dan Mobile App Native\n"
          ],
          "name": "stdout"
        }
      ]
    },
    {
      "cell_type": "code",
      "metadata": {
        "colab": {
          "base_uri": "https://localhost:8080/"
        },
        "id": "wYZQEwSoSSV8",
        "outputId": "c7bad5ac-8ff0-4da2-e7f5-74b86e09ea1b"
      },
      "source": [
        "from os import strerror\n",
        "\n",
        "try:\n",
        "    ccnt = lcnt = 0\n",
        "    s = open('teks.txt', 'rt')\n",
        "    line = s.readline()\n",
        "    while line != '':\n",
        "        lcnt += 1\n",
        "        for ch in line:\n",
        "            print(ch, end='')\n",
        "            ccnt += 1\n",
        "        line = s.readline()\n",
        "        print(\"=\"*20)\n",
        "    s.close()\n",
        "    print(\"\\n\\nCharacters in file:\", ccnt)\n",
        "    print(\"Lines in file:     \", lcnt)\n",
        "except IOError as e:\n",
        "    print(\"I/O error occurred:\", strerror(e.errno))\n",
        "    # raise"
      ],
      "execution_count": null,
      "outputs": [
        {
          "output_type": "stream",
          "text": [
            "Dari permasalahan tersebut kami membuat framework Big Data App untuk membuat pengguna akhir (end user), \n",
            "====================\n",
            "khususnya pengembang untuk memudahkan dalam membangun suatu aplikasi Big Data,\n",
            "====================\n",
            "yaitu dengan mengintegrasikan frontend menggunakan Web App dari framework Django dan Mobile App Native====================\n",
            "\n",
            "\n",
            "Characters in file: 286\n",
            "Lines in file:      3\n"
          ],
          "name": "stdout"
        }
      ]
    },
    {
      "cell_type": "code",
      "metadata": {
        "colab": {
          "base_uri": "https://localhost:8080/"
        },
        "id": "T4fxB1gHSuuh",
        "outputId": "b4258cfc-5b42-43e6-d151-91e4a319769e"
      },
      "source": [
        "for baris in open('teks.txt','rt'):\n",
        "    print(baris)\n",
        "    print(\"=\"*20)"
      ],
      "execution_count": null,
      "outputs": [
        {
          "output_type": "stream",
          "text": [
            "Dari permasalahan tersebut kami membuat framework Big Data App untuk membuat pengguna akhir (end user), \n",
            "\n",
            "====================\n",
            "khususnya pengembang untuk memudahkan dalam membangun suatu aplikasi Big Data,\n",
            "\n",
            "====================\n",
            "yaitu dengan mengintegrasikan frontend menggunakan Web App dari framework Django dan Mobile App Native\n",
            "====================\n"
          ],
          "name": "stdout"
        }
      ]
    },
    {
      "cell_type": "code",
      "metadata": {
        "colab": {
          "base_uri": "https://localhost:8080/"
        },
        "id": "6Ww_clCJSun7",
        "outputId": "6c7a53dd-6ab0-4517-c19f-4586c654f72b"
      },
      "source": [
        "# Diagnosing stream problems\n",
        "import errno\n",
        "\n",
        "try:\n",
        "    s = open(\"file.txt\", \"rt\")\n",
        "    # Actual processing goes here.\n",
        "    s.close()\n",
        "except Exception as exc:\n",
        "    if exc.errno == errno.ENOENT:\n",
        "        print(\"The file doesn't exist.\")\n",
        "    elif exc.errno == errno.EMFILE:\n",
        "        print(\"You've opened too many files.\")\n",
        "    else:\n",
        "        print(\"The error number is:\", exc.errno)\n",
        "\n",
        "\n",
        "# Tambahan\n",
        "# errno.EACCES → Permission denied\n",
        "# errno.EBADF → Bad file number\n",
        "# errno.EEXIST → File exists => misal ketika rename file\n",
        "# errno.EFBIG → File too large\n",
        "# errno.EISDIR → Is a directory\n",
        "# errno.EMFILE → Too many open files\n",
        "# errno.ENOENT → No such file or directory\n",
        "# errno.ENOSPC → No space left on device => no free space on the media."
      ],
      "execution_count": null,
      "outputs": [
        {
          "output_type": "stream",
          "text": [
            "The file doesn't exist.\n"
          ],
          "name": "stdout"
        }
      ]
    },
    {
      "cell_type": "code",
      "metadata": {
        "colab": {
          "base_uri": "https://localhost:8080/"
        },
        "id": "1Tv-Prd9VdlY",
        "outputId": "d43c38cb-96dc-4f75-f2fc-919ba1cff6ba"
      },
      "source": [
        "# Such an invocation creates a bytearray object able to store ten bytes.\n",
        "# Note: such a constructor fills the whole array with zeros.\n",
        "data = bytearray(10)\n",
        "\n",
        "for i in range(len(data)):\n",
        "    data[i] = 10 - i\n",
        "\n",
        "for b in data:\n",
        "    print(hex(b))\n"
      ],
      "execution_count": null,
      "outputs": [
        {
          "output_type": "stream",
          "text": [
            "0xa\n",
            "0x9\n",
            "0x8\n",
            "0x7\n",
            "0x6\n",
            "0x5\n",
            "0x4\n",
            "0x3\n",
            "0x2\n",
            "0x1\n"
          ],
          "name": "stdout"
        }
      ]
    },
    {
      "cell_type": "code",
      "metadata": {
        "colab": {
          "base_uri": "https://localhost:8080/"
        },
        "id": "OwFekmU2YSHf",
        "outputId": "98e02437-0df9-4fca-f5eb-aab0bdd36f27"
      },
      "source": [
        "!wget https://raw.githubusercontent.com/henrykironde/TutorialHub/master/programingnotes/www.ntu.edu.sg/home/ehchua/programming/java/images/OOP_PersonStudnetTeacher.png"
      ],
      "execution_count": null,
      "outputs": [
        {
          "output_type": "stream",
          "text": [
            "--2021-08-01 15:42:48--  https://raw.githubusercontent.com/henrykironde/TutorialHub/master/programingnotes/www.ntu.edu.sg/home/ehchua/programming/java/images/OOP_PersonStudnetTeacher.png\n",
            "Resolving raw.githubusercontent.com (raw.githubusercontent.com)... 185.199.108.133, 185.199.110.133, 185.199.109.133, ...\n",
            "Connecting to raw.githubusercontent.com (raw.githubusercontent.com)|185.199.108.133|:443... connected.\n",
            "HTTP request sent, awaiting response... 200 OK\n",
            "Length: 49752 (49K) [image/png]\n",
            "Saving to: ‘OOP_PersonStudnetTeacher.png’\n",
            "\n",
            "\r          OOP_Perso   0%[                    ]       0  --.-KB/s               \rOOP_PersonStudnetTe 100%[===================>]  48.59K  --.-KB/s    in 0.01s   \n",
            "\n",
            "2021-08-01 15:42:48 (4.59 MB/s) - ‘OOP_PersonStudnetTeacher.png’ saved [49752/49752]\n",
            "\n"
          ],
          "name": "stdout"
        }
      ]
    },
    {
      "cell_type": "code",
      "metadata": {
        "colab": {
          "base_uri": "https://localhost:8080/",
          "height": 644
        },
        "id": "rafiiz_PYmKm",
        "outputId": "7144517c-7228-49a4-e153-c51db8469fcc"
      },
      "source": [
        "from IPython.display import Image\n",
        "Image('OOP_PersonStudnetTeacher.png')"
      ],
      "execution_count": null,
      "outputs": [
        {
          "output_type": "execute_result",
          "data": {
            "image/png": "[encoded data removed]",
            "text/plain": [
              "<IPython.core.display.Image object>"
            ]
          },
          "metadata": {
            "tags": []
          },
          "execution_count": 67
        }
      ]
    },
    {
      "cell_type": "code",
      "metadata": {
        "colab": {
          "base_uri": "https://localhost:8080/"
        },
        "id": "HQUzyrctYLFQ",
        "outputId": "d37d7d2c-cdca-4ca6-e4c5-514cac617801"
      },
      "source": [
        "try:\n",
        "    stream = open(\"OOP_PersonStudnetTeacher.png\", \"rb\")\n",
        "    image = bytearray(stream.read())\n",
        "    stream.close()\n",
        "except IOError:\n",
        "    print(\"failed\")\n",
        "else:\n",
        "    print(\"success\")"
      ],
      "execution_count": null,
      "outputs": [
        {
          "output_type": "stream",
          "text": [
            "success\n"
          ],
          "name": "stdout"
        }
      ]
    },
    {
      "cell_type": "markdown",
      "metadata": {
        "id": "fTifMSukY9qv"
      },
      "source": [
        "## Library modules (os, datetime, time, and calendar.)\n"
      ]
    },
    {
      "cell_type": "code",
      "metadata": {
        "colab": {
          "base_uri": "https://localhost:8080/"
        },
        "id": "UJQAbpQSXm5B",
        "outputId": "164a7435-f7bb-4e44-a7f0-e0b445e1b8d8"
      },
      "source": [
        "import os\n",
        "print(os.uname())"
      ],
      "execution_count": null,
      "outputs": [
        {
          "output_type": "stream",
          "text": [
            "posix.uname_result(sysname='Linux', nodename='65bd11214013', release='5.4.104+', version='#1 SMP Sat Jun 5 09:50:34 PDT 2021', machine='x86_64')\n"
          ],
          "name": "stdout"
        }
      ]
    },
    {
      "cell_type": "code",
      "metadata": {
        "colab": {
          "base_uri": "https://localhost:8080/"
        },
        "id": "0m5eSepQY_Y-",
        "outputId": "54f687c9-1cb8-4400-db2a-b0e5aad691bd"
      },
      "source": [
        "import os\n",
        "print(os.name)"
      ],
      "execution_count": null,
      "outputs": [
        {
          "output_type": "stream",
          "text": [
            "posix\n"
          ],
          "name": "stdout"
        }
      ]
    },
    {
      "cell_type": "code",
      "metadata": {
        "colab": {
          "base_uri": "https://localhost:8080/"
        },
        "id": "iIItqfeeZYOC",
        "outputId": "c413fd04-f487-4437-cab1-df432165c9ca"
      },
      "source": [
        "import os\n",
        "os.mkdir(\"my_first_directory\")\n",
        "print(os.listdir())"
      ],
      "execution_count": null,
      "outputs": [
        {
          "output_type": "stream",
          "text": [
            "['.config', 'my_first_directory', 'fteks.txt', 'OOP_PersonStudnetTeacher.png', 'Daftar_Nilai_Random.txt', 'file.bin', 'teks.txt', 'sample_data']\n"
          ],
          "name": "stdout"
        }
      ]
    },
    {
      "cell_type": "code",
      "metadata": {
        "colab": {
          "base_uri": "https://localhost:8080/"
        },
        "id": "yRpcfYETZh3r",
        "outputId": "4c18619d-e42b-4140-b259-988f654b9430"
      },
      "source": [
        "import os\n",
        "\n",
        "os.makedirs(\"my_first_directory/my_second_directory\")\n",
        "os.chdir(\"my_first_directory\")\n",
        "print(os.listdir())"
      ],
      "execution_count": null,
      "outputs": [
        {
          "output_type": "stream",
          "text": [
            "['my_second_directory']\n"
          ],
          "name": "stdout"
        }
      ]
    },
    {
      "cell_type": "code",
      "metadata": {
        "colab": {
          "base_uri": "https://localhost:8080/"
        },
        "id": "DkSDOImhZwV7",
        "outputId": "ffef9d06-1490-4d42-91ab-e4addfcbeb2c"
      },
      "source": [
        "!pwd"
      ],
      "execution_count": null,
      "outputs": [
        {
          "output_type": "stream",
          "text": [
            "/content/my_first_directory\n"
          ],
          "name": "stdout"
        }
      ]
    },
    {
      "cell_type": "code",
      "metadata": {
        "colab": {
          "base_uri": "https://localhost:8080/"
        },
        "id": "onUcWEnXZh0Z",
        "outputId": "2389a32b-b307-4a02-e064-7a140be17c3a"
      },
      "source": [
        "# Where am I now?\n",
        "import os\n",
        "\n",
        "os.makedirs(\"my_first_directory/my_second_directory\")\n",
        "os.chdir(\"my_first_directory\")\n",
        "print(os.getcwd())\n",
        "os.chdir(\"my_second_directory\")\n",
        "print(os.getcwd())"
      ],
      "execution_count": null,
      "outputs": [
        {
          "output_type": "stream",
          "text": [
            "/content/my_first_directory/my_first_directory\n",
            "/content/my_first_directory/my_first_directory/my_second_directory\n"
          ],
          "name": "stdout"
        }
      ]
    },
    {
      "cell_type": "code",
      "metadata": {
        "colab": {
          "base_uri": "https://localhost:8080/"
        },
        "id": "cY6p6u_YZhuo",
        "outputId": "11161d2e-0bb9-4af7-d5c6-c02db57c878b"
      },
      "source": [
        "import os\n",
        "\n",
        "os.mkdir(\"my_first_directory\")\n",
        "print(os.listdir())\n",
        "os.rmdir(\"my_first_directory\")\n",
        "print(os.listdir())"
      ],
      "execution_count": null,
      "outputs": [
        {
          "output_type": "stream",
          "text": [
            "['my_first_directory']\n",
            "[]\n"
          ],
          "name": "stdout"
        }
      ]
    },
    {
      "cell_type": "code",
      "metadata": {
        "colab": {
          "base_uri": "https://localhost:8080/"
        },
        "id": "Y6iwo1XMaDcd",
        "outputId": "9afdc13a-54f4-4a71-bf86-570a25ddea89"
      },
      "source": [
        "from datetime import date\n",
        "\n",
        "today = date.today()\n",
        "\n",
        "print(\"Today:\", today)\n",
        "print(\"Year:\", today.year)\n",
        "print(\"Month:\", today.month)\n",
        "print(\"Day:\", today.day)"
      ],
      "execution_count": null,
      "outputs": [
        {
          "output_type": "stream",
          "text": [
            "Today: 2021-08-01\n",
            "Year: 2021\n",
            "Month: 8\n",
            "Day: 1\n"
          ],
          "name": "stdout"
        }
      ]
    },
    {
      "cell_type": "code",
      "metadata": {
        "colab": {
          "base_uri": "https://localhost:8080/"
        },
        "id": "cX4foKtfaDZm",
        "outputId": "66e051a8-15c3-4a30-9acc-a61b2003b525"
      },
      "source": [
        "from datetime import date\n",
        "import time\n",
        "\n",
        "timestamp = time.time()\n",
        "print(\"Timestamp:\", timestamp)\n",
        "\n",
        "d = date.fromtimestamp(timestamp)\n",
        "print(\"Date:\", d)"
      ],
      "execution_count": null,
      "outputs": [
        {
          "output_type": "stream",
          "text": [
            "Timestamp: 1627833115.8450341\n",
            "Date: 2021-08-01\n"
          ],
          "name": "stdout"
        }
      ]
    },
    {
      "cell_type": "code",
      "metadata": {
        "colab": {
          "base_uri": "https://localhost:8080/"
        },
        "id": "Efmi34-raDUN",
        "outputId": "4e5958b4-2488-4813-eef3-5dfb5cba0ce4"
      },
      "source": [
        "from datetime import date\n",
        "\n",
        "d = date.fromisoformat('2019-11-04')\n",
        "print(d)"
      ],
      "execution_count": null,
      "outputs": [
        {
          "output_type": "stream",
          "text": [
            "2019-11-04\n"
          ],
          "name": "stdout"
        }
      ]
    },
    {
      "cell_type": "code",
      "metadata": {
        "colab": {
          "base_uri": "https://localhost:8080/"
        },
        "id": "PJlMRd3kaC9n",
        "outputId": "cf8a1dff-b41f-4518-c11c-4dd7309b37c8"
      },
      "source": [
        "from datetime import date\n",
        "\n",
        "d = date(1991, 2, 5)\n",
        "print(d)\n",
        "\n",
        "d = d.replace(year=1992, month=1, day=16)\n",
        "print(d)"
      ],
      "execution_count": null,
      "outputs": [
        {
          "output_type": "stream",
          "text": [
            "1991-02-05\n",
            "1992-01-16\n"
          ],
          "name": "stdout"
        }
      ]
    },
    {
      "cell_type": "code",
      "metadata": {
        "colab": {
          "base_uri": "https://localhost:8080/"
        },
        "id": "pv4F5-jrar6C",
        "outputId": "c7ceeffb-76ae-4a05-9523-62d5364b3ea6"
      },
      "source": [
        "from datetime import date\n",
        "\n",
        "d = date(2019, 11, 4)\n",
        "print(d.weekday())"
      ],
      "execution_count": null,
      "outputs": [
        {
          "output_type": "stream",
          "text": [
            "0\n"
          ],
          "name": "stdout"
        }
      ]
    },
    {
      "cell_type": "code",
      "metadata": {
        "colab": {
          "base_uri": "https://localhost:8080/"
        },
        "id": "Y581dGGgar27",
        "outputId": "f7e42ec7-4a47-454b-f701-89994df044e0"
      },
      "source": [
        "from datetime import time\n",
        "\n",
        "t = time(14, 53, 20, 1)\n",
        "\n",
        "print(\"Time:\", t)\n",
        "print(\"Hour:\", t.hour)\n",
        "print(\"Minute:\", t.minute)\n",
        "print(\"Second:\", t.second)\n",
        "print(\"Microsecond:\", t.microsecond)"
      ],
      "execution_count": null,
      "outputs": [
        {
          "output_type": "stream",
          "text": [
            "Time: 14:53:20.000001\n",
            "Hour: 14\n",
            "Minute: 53\n",
            "Second: 20\n",
            "Microsecond: 1\n"
          ],
          "name": "stdout"
        }
      ]
    },
    {
      "cell_type": "code",
      "metadata": {
        "colab": {
          "base_uri": "https://localhost:8080/"
        },
        "id": "OenEEC-Larzc",
        "outputId": "f119f4a0-a9d2-492d-da45-8837a22cc733"
      },
      "source": [
        "import time\n",
        "\n",
        "class Student:\n",
        "    def take_nap(self, seconds):\n",
        "        print(\"I'm very tired. I have to take a nap. See you later.\")\n",
        "        time.sleep(seconds)\n",
        "        print(\"I slept well! I feel great!\")\n",
        "\n",
        "student = Student()\n",
        "student.take_nap(5)"
      ],
      "execution_count": null,
      "outputs": [
        {
          "output_type": "stream",
          "text": [
            "I'm very tired. I have to take a nap. See you later.\n",
            "I slept well! I feel great!\n"
          ],
          "name": "stdout"
        }
      ]
    },
    {
      "cell_type": "code",
      "metadata": {
        "colab": {
          "base_uri": "https://localhost:8080/"
        },
        "id": "83XuQalfa8If",
        "outputId": "a4f0c33c-5fac-4a2d-ec13-9c3cb3dc5450"
      },
      "source": [
        "import time\n",
        "\n",
        "timestamp = 1572879180\n",
        "print(time.ctime(timestamp))"
      ],
      "execution_count": null,
      "outputs": [
        {
          "output_type": "stream",
          "text": [
            "Mon Nov  4 14:53:00 2019\n"
          ],
          "name": "stdout"
        }
      ]
    },
    {
      "cell_type": "code",
      "metadata": {
        "colab": {
          "base_uri": "https://localhost:8080/"
        },
        "id": "2h2Igfcha8E9",
        "outputId": "c441f238-c422-4599-eadd-f23c904b5211"
      },
      "source": [
        "import time\n",
        "\n",
        "timestamp = 1572879180\n",
        "print(time.gmtime(timestamp))\n",
        "print(time.localtime(timestamp))"
      ],
      "execution_count": null,
      "outputs": [
        {
          "output_type": "stream",
          "text": [
            "time.struct_time(tm_year=2019, tm_mon=11, tm_mday=4, tm_hour=14, tm_min=53, tm_sec=0, tm_wday=0, tm_yday=308, tm_isdst=0)\n",
            "time.struct_time(tm_year=2019, tm_mon=11, tm_mday=4, tm_hour=14, tm_min=53, tm_sec=0, tm_wday=0, tm_yday=308, tm_isdst=0)\n"
          ],
          "name": "stdout"
        }
      ]
    },
    {
      "cell_type": "code",
      "metadata": {
        "colab": {
          "base_uri": "https://localhost:8080/"
        },
        "id": "CuJfxIj5a76Y",
        "outputId": "2dbebb25-223e-4840-f557-683a2331a2c9"
      },
      "source": [
        "import time\n",
        "\n",
        "timestamp = 0\n",
        "st = time.gmtime(timestamp)\n",
        "\n",
        "print(time.asctime(st))\n",
        "print(time.mktime((2019, 11, 4, 14, 53, 0, 0, 308, 0)))"
      ],
      "execution_count": null,
      "outputs": [
        {
          "output_type": "stream",
          "text": [
            "Thu Jan  1 00:00:00 1970\n",
            "1572879180.0\n"
          ],
          "name": "stdout"
        }
      ]
    },
    {
      "cell_type": "code",
      "metadata": {
        "colab": {
          "base_uri": "https://localhost:8080/"
        },
        "id": "bFGSFKDPa70w",
        "outputId": "8a2b05c6-edd9-41be-85c7-77d1ff26acc9"
      },
      "source": [
        "from datetime import datetime\n",
        "\n",
        "dt = datetime(2019, 11, 4, 14, 53)\n",
        "\n",
        "print(\"Datetime:\", dt)\n",
        "print(\"Date:\", dt.date())\n",
        "print(\"Time:\", dt.time())"
      ],
      "execution_count": null,
      "outputs": [
        {
          "output_type": "stream",
          "text": [
            "Datetime: 2019-11-04 14:53:00\n",
            "Date: 2019-11-04\n",
            "Time: 14:53:00\n"
          ],
          "name": "stdout"
        }
      ]
    },
    {
      "cell_type": "code",
      "metadata": {
        "colab": {
          "base_uri": "https://localhost:8080/"
        },
        "id": "e_j2TA-Ta7wY",
        "outputId": "97d33e3f-53b4-4166-9d29-f6af2b63dc2b"
      },
      "source": [
        "from datetime import datetime\n",
        "\n",
        "print(\"today:\", datetime.today())\n",
        "print(\"now:\", datetime.now())\n",
        "print(\"utcnow:\", datetime.utcnow())"
      ],
      "execution_count": null,
      "outputs": [
        {
          "output_type": "stream",
          "text": [
            "today: 2021-08-01 15:56:32.760618\n",
            "now: 2021-08-01 15:56:32.763130\n",
            "utcnow: 2021-08-01 15:56:32.763772\n"
          ],
          "name": "stdout"
        }
      ]
    },
    {
      "cell_type": "code",
      "metadata": {
        "colab": {
          "base_uri": "https://localhost:8080/"
        },
        "id": "ClbosgI3bYJb",
        "outputId": "9273421b-f0d7-4c0c-ae03-41e28833ba47"
      },
      "source": [
        "from datetime import datetime\n",
        "\n",
        "dt = datetime(2020, 10, 4, 14, 55)\n",
        "print(\"Timestamp:\", dt.timestamp())"
      ],
      "execution_count": null,
      "outputs": [
        {
          "output_type": "stream",
          "text": [
            "Timestamp: 1601823300.0\n"
          ],
          "name": "stdout"
        }
      ]
    },
    {
      "cell_type": "code",
      "metadata": {
        "colab": {
          "base_uri": "https://localhost:8080/"
        },
        "id": "NOyTjBiobYGc",
        "outputId": "c32a5b16-a594-4718-bced-6563c1364220"
      },
      "source": [
        "from datetime import date\n",
        "\n",
        "d = date(2020, 1, 4)\n",
        "print(d.strftime('%Y/%m/%d'))"
      ],
      "execution_count": null,
      "outputs": [
        {
          "output_type": "stream",
          "text": [
            "2020/01/04\n"
          ],
          "name": "stdout"
        }
      ]
    },
    {
      "cell_type": "code",
      "metadata": {
        "colab": {
          "base_uri": "https://localhost:8080/"
        },
        "id": "EpgdYN_ZbYDk",
        "outputId": "4f67db31-baa2-4b1c-b4c7-c34885ab14c1"
      },
      "source": [
        "from datetime import time\n",
        "from datetime import datetime\n",
        "\n",
        "t = time(14, 53)\n",
        "print(t.strftime(\"%H:%M:%S\"))\n",
        "\n",
        "dt = datetime(2020, 11, 4, 14, 53)\n",
        "print(dt.strftime(\"%y/%B/%d %H:%M:%S\"))"
      ],
      "execution_count": null,
      "outputs": [
        {
          "output_type": "stream",
          "text": [
            "14:53:00\n",
            "20/November/04 14:53:00\n"
          ],
          "name": "stdout"
        }
      ]
    },
    {
      "cell_type": "code",
      "metadata": {
        "colab": {
          "base_uri": "https://localhost:8080/"
        },
        "id": "6LCxi0ybbX--",
        "outputId": "0d38e6e3-a7f9-4180-b063-eea3d1f66c86"
      },
      "source": [
        "import time\n",
        "\n",
        "timestamp = 1572879180\n",
        "st = time.gmtime(timestamp)\n",
        "\n",
        "print(time.strftime(\"%Y/%m/%d %H:%M:%S\", st))\n",
        "print(time.strftime(\"%Y/%m/%d %H:%M:%S\"))"
      ],
      "execution_count": null,
      "outputs": [
        {
          "output_type": "stream",
          "text": [
            "2019/11/04 14:53:00\n",
            "2021/08/01 15:58:06\n"
          ],
          "name": "stdout"
        }
      ]
    },
    {
      "cell_type": "code",
      "metadata": {
        "colab": {
          "base_uri": "https://localhost:8080/"
        },
        "id": "cxCxul4-bX8I",
        "outputId": "5f553c36-ddb6-484e-f064-3680ed90fc68"
      },
      "source": [
        "from datetime import datetime\n",
        "print(datetime.strptime(\"2019/11/04 14:53:00\", \"%Y/%m/%d %H:%M:%S\"))"
      ],
      "execution_count": null,
      "outputs": [
        {
          "output_type": "stream",
          "text": [
            "2019-11-04 14:53:00\n"
          ],
          "name": "stdout"
        }
      ]
    },
    {
      "cell_type": "code",
      "metadata": {
        "colab": {
          "base_uri": "https://localhost:8080/"
        },
        "id": "CvNWcb9xb75A",
        "outputId": "c6aaf9f2-2d69-40b7-c057-c347fae05199"
      },
      "source": [
        "from datetime import date\n",
        "from datetime import datetime\n",
        "\n",
        "d1 = date(2020, 11, 4)\n",
        "d2 = date(2019, 11, 4)\n",
        "\n",
        "print(d1 - d2)\n",
        "\n",
        "dt1 = datetime(2020, 11, 4, 0, 0, 0)\n",
        "dt2 = datetime(2019, 11, 4, 14, 53, 0)\n",
        "\n",
        "print(dt1 - dt2)"
      ],
      "execution_count": null,
      "outputs": [
        {
          "output_type": "stream",
          "text": [
            "366 days, 0:00:00\n",
            "365 days, 9:07:00\n"
          ],
          "name": "stdout"
        }
      ]
    },
    {
      "cell_type": "code",
      "metadata": {
        "colab": {
          "base_uri": "https://localhost:8080/"
        },
        "id": "YNtzM5y-b71W",
        "outputId": "4d219116-0253-436e-8d65-02efbaea2095"
      },
      "source": [
        "from datetime import timedelta\n",
        "\n",
        "delta = timedelta(weeks=2, days=2, hours=3)\n",
        "print(delta)"
      ],
      "execution_count": null,
      "outputs": [
        {
          "output_type": "stream",
          "text": [
            "16 days, 3:00:00\n"
          ],
          "name": "stdout"
        }
      ]
    },
    {
      "cell_type": "code",
      "metadata": {
        "colab": {
          "base_uri": "https://localhost:8080/"
        },
        "id": "w4DGnJMFb7yG",
        "outputId": "2e079da4-a6d2-4a6d-f253-807b44bba961"
      },
      "source": [
        "from datetime import timedelta\n",
        "from datetime import date\n",
        "from datetime import datetime\n",
        "\n",
        "delta = timedelta(weeks=2, days=2, hours=2)\n",
        "print(delta)\n",
        "\n",
        "delta2 = delta * 2\n",
        "print(delta2)\n",
        "\n",
        "d = date(2019, 10, 4) + delta2\n",
        "print(d)\n",
        "\n",
        "dt = datetime(2019, 10, 4, 14, 53) + delta2\n",
        "print(dt)"
      ],
      "execution_count": null,
      "outputs": [
        {
          "output_type": "stream",
          "text": [
            "16 days, 2:00:00\n",
            "32 days, 4:00:00\n",
            "2019-11-05\n",
            "2019-11-05 18:53:00\n"
          ],
          "name": "stdout"
        }
      ]
    },
    {
      "cell_type": "code",
      "metadata": {
        "colab": {
          "base_uri": "https://localhost:8080/"
        },
        "id": "Y_njChtDcPzK",
        "outputId": "c4f88421-f3a2-4072-8b41-5173e573d54a"
      },
      "source": [
        "from datetime import time\n",
        "\n",
        "t = time(14, 39)\n",
        "print(t.strftime(\"%H:%M:%S\"))"
      ],
      "execution_count": null,
      "outputs": [
        {
          "output_type": "stream",
          "text": [
            "14:39:00\n"
          ],
          "name": "stdout"
        }
      ]
    },
    {
      "cell_type": "code",
      "metadata": {
        "colab": {
          "base_uri": "https://localhost:8080/"
        },
        "id": "RezJ36xIcPvW",
        "outputId": "c2a6b4c8-71b6-410c-dcd4-d8a65fa30a80"
      },
      "source": [
        "from datetime import datetime\n",
        "\n",
        "dt1 = datetime(2020, 9, 29, 14, 41, 0)\n",
        "dt2 = datetime(2020, 9, 28, 14, 41, 0)\n",
        "\n",
        "print(dt1 - dt2)"
      ],
      "execution_count": null,
      "outputs": [
        {
          "output_type": "stream",
          "text": [
            "1 day, 0:00:00\n"
          ],
          "name": "stdout"
        }
      ]
    },
    {
      "cell_type": "code",
      "metadata": {
        "colab": {
          "base_uri": "https://localhost:8080/"
        },
        "id": "yAPbyfYjcPsj",
        "outputId": "f4d88ccf-bb4e-4f36-8941-e7bd1a8802f1"
      },
      "source": [
        "import calendar\n",
        "print(calendar.calendar(2021))"
      ],
      "execution_count": null,
      "outputs": [
        {
          "output_type": "stream",
          "text": [
            "                                  2021\n",
            "\n",
            "      January                   February                   March\n",
            "Mo Tu We Th Fr Sa Su      Mo Tu We Th Fr Sa Su      Mo Tu We Th Fr Sa Su\n",
            "             1  2  3       1  2  3  4  5  6  7       1  2  3  4  5  6  7\n",
            " 4  5  6  7  8  9 10       8  9 10 11 12 13 14       8  9 10 11 12 13 14\n",
            "11 12 13 14 15 16 17      15 16 17 18 19 20 21      15 16 17 18 19 20 21\n",
            "18 19 20 21 22 23 24      22 23 24 25 26 27 28      22 23 24 25 26 27 28\n",
            "25 26 27 28 29 30 31                                29 30 31\n",
            "\n",
            "       April                      May                       June\n",
            "Mo Tu We Th Fr Sa Su      Mo Tu We Th Fr Sa Su      Mo Tu We Th Fr Sa Su\n",
            "          1  2  3  4                      1  2          1  2  3  4  5  6\n",
            " 5  6  7  8  9 10 11       3  4  5  6  7  8  9       7  8  9 10 11 12 13\n",
            "12 13 14 15 16 17 18      10 11 12 13 14 15 16      14 15 16 17 18 19 20\n",
            "19 20 21 22 23 24 25      17 18 19 20 21 22 23      21 22 23 24 25 26 27\n",
            "26 27 28 29 30            24 25 26 27 28 29 30      28 29 30\n",
            "                          31\n",
            "\n",
            "        July                     August                  September\n",
            "Mo Tu We Th Fr Sa Su      Mo Tu We Th Fr Sa Su      Mo Tu We Th Fr Sa Su\n",
            "          1  2  3  4                         1             1  2  3  4  5\n",
            " 5  6  7  8  9 10 11       2  3  4  5  6  7  8       6  7  8  9 10 11 12\n",
            "12 13 14 15 16 17 18       9 10 11 12 13 14 15      13 14 15 16 17 18 19\n",
            "19 20 21 22 23 24 25      16 17 18 19 20 21 22      20 21 22 23 24 25 26\n",
            "26 27 28 29 30 31         23 24 25 26 27 28 29      27 28 29 30\n",
            "                          30 31\n",
            "\n",
            "      October                   November                  December\n",
            "Mo Tu We Th Fr Sa Su      Mo Tu We Th Fr Sa Su      Mo Tu We Th Fr Sa Su\n",
            "             1  2  3       1  2  3  4  5  6  7             1  2  3  4  5\n",
            " 4  5  6  7  8  9 10       8  9 10 11 12 13 14       6  7  8  9 10 11 12\n",
            "11 12 13 14 15 16 17      15 16 17 18 19 20 21      13 14 15 16 17 18 19\n",
            "18 19 20 21 22 23 24      22 23 24 25 26 27 28      20 21 22 23 24 25 26\n",
            "25 26 27 28 29 30 31      29 30                     27 28 29 30 31\n",
            "\n"
          ],
          "name": "stdout"
        }
      ]
    },
    {
      "cell_type": "code",
      "metadata": {
        "colab": {
          "base_uri": "https://localhost:8080/"
        },
        "id": "q5u8fQILcswu",
        "outputId": "94a55043-202a-4c85-a6e3-7198670f7465"
      },
      "source": [
        "import calendar\n",
        "print(calendar.month(2021, 8))"
      ],
      "execution_count": null,
      "outputs": [
        {
          "output_type": "stream",
          "text": [
            "    August 2021\n",
            "Mo Tu We Th Fr Sa Su\n",
            "                   1\n",
            " 2  3  4  5  6  7  8\n",
            " 9 10 11 12 13 14 15\n",
            "16 17 18 19 20 21 22\n",
            "23 24 25 26 27 28 29\n",
            "30 31\n",
            "\n"
          ],
          "name": "stdout"
        }
      ]
    },
    {
      "cell_type": "code",
      "metadata": {
        "colab": {
          "base_uri": "https://localhost:8080/"
        },
        "id": "EmlCxWkScstU",
        "outputId": "3b316379-913d-4767-a78a-202c94e3eb11"
      },
      "source": [
        "import calendar\n",
        "\n",
        "calendar.setfirstweekday(calendar.SUNDAY)\n",
        "calendar.prmonth(2021, 8)"
      ],
      "execution_count": null,
      "outputs": [
        {
          "output_type": "stream",
          "text": [
            "    August 2021\n",
            "Su Mo Tu We Th Fr Sa\n",
            " 1  2  3  4  5  6  7\n",
            " 8  9 10 11 12 13 14\n",
            "15 16 17 18 19 20 21\n",
            "22 23 24 25 26 27 28\n",
            "29 30 31\n"
          ],
          "name": "stdout"
        }
      ]
    },
    {
      "cell_type": "code",
      "metadata": {
        "colab": {
          "base_uri": "https://localhost:8080/"
        },
        "id": "tphRg5tOcsqX",
        "outputId": "76b9dd4d-1d01-4000-a0df-fb37c154374f"
      },
      "source": [
        "import calendar\n",
        "print(calendar.weekday(2021, 8,1)) # Agustus tgl 1 hari ke-6 (Minggu)"
      ],
      "execution_count": null,
      "outputs": [
        {
          "output_type": "stream",
          "text": [
            "6\n"
          ],
          "name": "stdout"
        }
      ]
    },
    {
      "cell_type": "code",
      "metadata": {
        "colab": {
          "base_uri": "https://localhost:8080/"
        },
        "id": "GDj6OegZdGil",
        "outputId": "d0df0d4d-2cae-427d-c88b-63c5a3d67717"
      },
      "source": [
        "import calendar\n",
        "print(calendar.weekheader(2))"
      ],
      "execution_count": null,
      "outputs": [
        {
          "output_type": "stream",
          "text": [
            "Su Mo Tu We Th Fr Sa\n"
          ],
          "name": "stdout"
        }
      ]
    },
    {
      "cell_type": "code",
      "metadata": {
        "colab": {
          "base_uri": "https://localhost:8080/"
        },
        "id": "Sx4y-5qRdGee",
        "outputId": "cb3a60e7-e5a1-45a6-eff2-b893a8b24c95"
      },
      "source": [
        "import calendar\n",
        "\n",
        "print(calendar.isleap(2021))\n",
        "print(calendar.leapdays(2010, 2025))  # Up to but not including 2025."
      ],
      "execution_count": null,
      "outputs": [
        {
          "output_type": "stream",
          "text": [
            "False\n",
            "4\n"
          ],
          "name": "stdout"
        }
      ]
    },
    {
      "cell_type": "code",
      "metadata": {
        "colab": {
          "base_uri": "https://localhost:8080/"
        },
        "id": "Ux1b-XO7ebDa",
        "outputId": "ccae8b43-5731-4ee0-f383-2abd85a983ee"
      },
      "source": [
        "import calendar  \n",
        "\n",
        "c = calendar.Calendar(calendar.SUNDAY)\n",
        "\n",
        "for weekday in c.iterweekdays():\n",
        "    print(weekday, end=\" \")"
      ],
      "execution_count": null,
      "outputs": [
        {
          "output_type": "stream",
          "text": [
            "6 0 1 2 3 4 5 "
          ],
          "name": "stdout"
        }
      ]
    },
    {
      "cell_type": "code",
      "metadata": {
        "colab": {
          "base_uri": "https://localhost:8080/"
        },
        "id": "Tm5aKIXnebAc",
        "outputId": "7fb6aa40-8e24-43ef-f5b0-9c0dc9bebe62"
      },
      "source": [
        "import calendar  \n",
        "\n",
        "c = calendar.Calendar()\n",
        "\n",
        "for date in c.itermonthdates(2019, 11):\n",
        "    print(date, end=\" \")"
      ],
      "execution_count": null,
      "outputs": [
        {
          "output_type": "stream",
          "text": [
            "2019-10-28 2019-10-29 2019-10-30 2019-10-31 2019-11-01 2019-11-02 2019-11-03 2019-11-04 2019-11-05 2019-11-06 2019-11-07 2019-11-08 2019-11-09 2019-11-10 2019-11-11 2019-11-12 2019-11-13 2019-11-14 2019-11-15 2019-11-16 2019-11-17 2019-11-18 2019-11-19 2019-11-20 2019-11-21 2019-11-22 2019-11-23 2019-11-24 2019-11-25 2019-11-26 2019-11-27 2019-11-28 2019-11-29 2019-11-30 2019-12-01 "
          ],
          "name": "stdout"
        }
      ]
    },
    {
      "cell_type": "code",
      "metadata": {
        "colab": {
          "base_uri": "https://localhost:8080/"
        },
        "id": "6dTi6Kp0ea6h",
        "outputId": "c1722420-29bd-4549-ebcf-d7d510a31a6c"
      },
      "source": [
        "import calendar  \n",
        "\n",
        "c = calendar.Calendar()\n",
        "\n",
        "for iter in c.itermonthdays(2019, 11):\n",
        "    print(iter, end=\" \")"
      ],
      "execution_count": null,
      "outputs": [
        {
          "output_type": "stream",
          "text": [
            "0 0 0 0 1 2 3 4 5 6 7 8 9 10 11 12 13 14 15 16 17 18 19 20 21 22 23 24 25 26 27 28 29 30 0 "
          ],
          "name": "stdout"
        }
      ]
    },
    {
      "cell_type": "code",
      "metadata": {
        "colab": {
          "base_uri": "https://localhost:8080/"
        },
        "id": "M_u0uL-pfWS1",
        "outputId": "30e3831d-86a6-4c54-eeb1-b6efe0a17e12"
      },
      "source": [
        "import calendar  \n",
        "\n",
        "c = calendar.Calendar()\n",
        "\n",
        "for data in c.monthdays2calendar(2020, 12):\n",
        "    print(data)"
      ],
      "execution_count": null,
      "outputs": [
        {
          "output_type": "stream",
          "text": [
            "[(0, 0), (1, 1), (2, 2), (3, 3), (4, 4), (5, 5), (6, 6)]\n",
            "[(7, 0), (8, 1), (9, 2), (10, 3), (11, 4), (12, 5), (13, 6)]\n",
            "[(14, 0), (15, 1), (16, 2), (17, 3), (18, 4), (19, 5), (20, 6)]\n",
            "[(21, 0), (22, 1), (23, 2), (24, 3), (25, 4), (26, 5), (27, 6)]\n",
            "[(28, 0), (29, 1), (30, 2), (31, 3), (0, 4), (0, 5), (0, 6)]\n"
          ],
          "name": "stdout"
        }
      ]
    },
    {
      "cell_type": "code",
      "metadata": {
        "id": "HRjwFD-4fWG3"
      },
      "source": [
        ""
      ],
      "execution_count": null,
      "outputs": []
    },
    {
      "cell_type": "markdown",
      "metadata": {
        "id": "tFikMdwG3gYa"
      },
      "source": [
        "# Processing Files"
      ]
    },
    {
      "cell_type": "code",
      "metadata": {
        "colab": {
          "base_uri": "https://localhost:8080/"
        },
        "id": "uBptS3RR3gYb",
        "outputId": "8c5dfcf8-dd54-4259-8f51-8fa9e1ebb813"
      },
      "source": [
        "stream = open(\"teks.txt\", \"rt\", encoding = \"utf-8\") # opening tzop.txt in read mode, returning it as a file object\n",
        "print(stream.read()) # printing the content of the file"
      ],
      "execution_count": null,
      "outputs": [
        {
          "output_type": "stream",
          "text": [
            "Dari permasalahan tersebut kami membuat framework Big Data App untuk membuat pengguna akhir (end user), \n",
            "khususnya pengembang untuk memudahkan dalam membangun suatu aplikasi Big Data,\n",
            "yaitu dengan mengintegrasikan frontend menggunakan Web App dari framework Django dan Mobile App Native\n"
          ],
          "name": "stdout"
        }
      ]
    },
    {
      "cell_type": "code",
      "metadata": {
        "colab": {
          "base_uri": "https://localhost:8080/"
        },
        "id": "qf61affZ3gYb",
        "outputId": "e2c9d381-83c5-4295-aa1f-4f4736095b3a"
      },
      "source": [
        "from os import strerror\n",
        "\n",
        "try:\n",
        "    cnt = 0\n",
        "    s = open('teks.txt', \"rt\")\n",
        "    ch = s.read(1)\n",
        "    while ch != '':\n",
        "        print(ch, end='')\n",
        "        cnt += 1\n",
        "        ch = s.read(1)\n",
        "    s.close()\n",
        "    print(\"\\n\\nCharacters in file:\", cnt)\n",
        "except IOError as e:\n",
        "    print(\"I/O error occurred: \", strerr(e.errno))"
      ],
      "execution_count": null,
      "outputs": [
        {
          "output_type": "stream",
          "text": [
            "Dari permasalahan tersebut kami membuat framework Big Data App untuk membuat pengguna akhir (end user), \n",
            "khususnya pengembang untuk memudahkan dalam membangun suatu aplikasi Big Data,\n",
            "yaitu dengan mengintegrasikan frontend menggunakan Web App dari framework Django dan Mobile App Native\n",
            "\n",
            "Characters in file: 286\n"
          ],
          "name": "stdout"
        }
      ]
    },
    {
      "cell_type": "code",
      "metadata": {
        "colab": {
          "base_uri": "https://localhost:8080/"
        },
        "id": "sElcHlG93gYc",
        "outputId": "95413d7a-fa55-4fe3-9c39-14d3a9c9caa3"
      },
      "source": [
        "from os import strerror\n",
        "\n",
        "try:\n",
        "    ccnt = lcnt = 0\n",
        "    s = open('teks.txt', 'rt')\n",
        "    line = s.readline()\n",
        "    while line != '':\n",
        "        lcnt += 1\n",
        "        for ch in line:\n",
        "            print(ch, end='')\n",
        "            ccnt += 1\n",
        "        line = s.readline()\n",
        "    s.close()\n",
        "    print(\"\\n\\nCharacters in file:\", ccnt)\n",
        "    print(\"Lines in file:     \", lcnt)\n",
        "except IOError as e:\n",
        "    print(\"I/O error occurred:\", strerr(e.errno))"
      ],
      "execution_count": null,
      "outputs": [
        {
          "output_type": "stream",
          "text": [
            "Dari permasalahan tersebut kami membuat framework Big Data App untuk membuat pengguna akhir (end user), \n",
            "khususnya pengembang untuk memudahkan dalam membangun suatu aplikasi Big Data,\n",
            "yaitu dengan mengintegrasikan frontend menggunakan Web App dari framework Django dan Mobile App Native\n",
            "\n",
            "Characters in file: 286\n",
            "Lines in file:      3\n"
          ],
          "name": "stdout"
        }
      ]
    },
    {
      "cell_type": "code",
      "metadata": {
        "colab": {
          "base_uri": "https://localhost:8080/"
        },
        "id": "5dWzfUPp3gYc",
        "outputId": "5bd4fe67-dd55-4938-ee3a-6940efe547a5"
      },
      "source": [
        "from os import strerror\n",
        "\n",
        "try:\n",
        "    ccnt = lcnt = 0\n",
        "    s = open('teks.txt', 'rt')\n",
        "    lines = s.readlines(20)\n",
        "    while len(lines) != 0:\n",
        "        for line in lines:\n",
        "            lcnt += 1\n",
        "            for ch in line:\n",
        "                print(ch, end='')\n",
        "                ccnt += 1\n",
        "        lines = s.readlines(10)\n",
        "    s.close()\n",
        "    print(\"\\n\\nCharacters in file:\", ccnt)\n",
        "    print(\"Lines in file:     \", lcnt)\n",
        "except IOError as e:\n",
        "    print(\"I/O error occurred:\", strerr(e.errno))"
      ],
      "execution_count": null,
      "outputs": [
        {
          "output_type": "stream",
          "text": [
            "Dari permasalahan tersebut kami membuat framework Big Data App untuk membuat pengguna akhir (end user), \n",
            "khususnya pengembang untuk memudahkan dalam membangun suatu aplikasi Big Data,\n",
            "yaitu dengan mengintegrasikan frontend menggunakan Web App dari framework Django dan Mobile App Native\n",
            "\n",
            "Characters in file: 286\n",
            "Lines in file:      3\n"
          ],
          "name": "stdout"
        }
      ]
    },
    {
      "cell_type": "markdown",
      "metadata": {
        "id": "pvIA1SPUgFuo"
      },
      "source": [
        "Semoga Sukses. Aamiin. :D\n",
        "![]( https://docs.google.com/uc?export=download&id=1vJNmuncRehLc3WCZkFYCU6rRMVTy-w0k)"
      ]
    }
  ]
}